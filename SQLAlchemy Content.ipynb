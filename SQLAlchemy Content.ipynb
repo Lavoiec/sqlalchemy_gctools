{
 "cells": [
  {
   "cell_type": "code",
   "execution_count": 1,
   "metadata": {
    "collapsed": false
   },
   "outputs": [
    {
     "data": {
      "text/plain": [
       "'1.0.13'"
      ]
     },
     "execution_count": 1,
     "metadata": {},
     "output_type": "execute_result"
    }
   ],
   "source": [
    "import sqlalchemy as sq\n",
    "import pymysql\n",
    "\n",
    "import pandas as pd\n",
    "import numpy as np\n",
    "\n",
    "import os\n",
    "import csv\n",
    "\n",
    "import datetime as dt\n",
    "\n",
    "sq.__version__"
   ]
  },
  {
   "cell_type": "code",
   "execution_count": 2,
   "metadata": {
    "collapsed": true
   },
   "outputs": [],
   "source": [
    "\n",
    "def convert_unixtime(stamp):\n",
    "    return dt.datetime.fromtimestamp(\n",
    "        int(stamp)\n",
    "    ).strftime('%Y-%m-%d')"
   ]
  },
  {
   "cell_type": "code",
   "execution_count": 3,
   "metadata": {
    "collapsed": true
   },
   "outputs": [],
   "source": [
    "# Set hash function to anonymize data\n",
    "import hashlib\n",
    "\n",
    "SALT = os.urandom(16)\n",
    "\n",
    "def anonymize(value):\n",
    "    return hashlib.sha1(value+SALT).hexdigest()"
   ]
  },
  {
   "cell_type": "code",
   "execution_count": 4,
   "metadata": {
    "collapsed": true
   },
   "outputs": [],
   "source": [
    "def find_dept(email):\n",
    "    ampersand = email.find('@')\n",
    "    tail = email[ampersand + 1:]\n",
    "    try:\n",
    "        return dept_dict[tail]\n",
    "    except KeyError:\n",
    "        return \"OTHER\""
   ]
  },
  {
   "cell_type": "markdown",
   "metadata": {},
   "source": [
    "## Set up Dept List/Dict"
   ]
  },
  {
   "cell_type": "code",
   "execution_count": 5,
   "metadata": {
    "collapsed": true
   },
   "outputs": [],
   "source": [
    "dept_dict = {}\n",
    "\n",
    "data_path = r'/Users/toferc/Documents/Data/'\n",
    "output_path = r'/Users/toferc/Documents/Report Card/April/'"
   ]
  },
  {
   "cell_type": "code",
   "execution_count": 6,
   "metadata": {
    "collapsed": false
   },
   "outputs": [],
   "source": [
    "with open(os.path.join(data_path, 'csv_keys.csv'), \"r\") as f:\n",
    "    reader = csv.reader(f, delimiter=',')\n",
    "    next(reader)\n",
    "    \n",
    "    for row in reader:\n",
    "        email, acronym = row\n",
    "        dept_dict[email] = acronym\n",
    "\n",
    "dept_dict['cadets.gc.ca'] = 'CADETS'\n",
    "dept_dict['canada.gc.ca'] = 'CANADA'\n",
    "dept_dict['canada.ca'] = 'CANADA'\n",
    "dept_dict['tribunal.gc.ca'] = 'TRIBUNAL'\n",
    "dept_dict['cannor.gc.ca'] = 'CED/DEC'\n",
    "dept_dict['ci-oic.gc.ca'] = 'CI/OIC'\n",
    "dept_dict['ccgs-ngcc.gc.ca'] = 'CCGS/NGCC'\n",
    "dept_dict['god.ccgs-ngcc.gc.ca'] = 'CCGS/NGCC'\n",
    "dept_dict['clo-ocol.gc.ca'] = 'OCOL/CLO'\n",
    "dept_dict['csps.gc.ca'] = 'CSPS/EFPC'\n",
    "dept_dict['interenational.gc.ca'] = 'DFAITD/MAECD'\n",
    "dept_dict['cnb-ncw.gc.ca'] = 'CNB/NCW'\n",
    "dept_dict['ncw-cnb.gc.ca'] = 'CNB/NCW'\n",
    "dept_dict['nfb.gc.ca'] = 'NFB/ONF'\n",
    "dept_dict['nrccan-rncan.gc.ca'] = 'NRCAN/RNCAN'\n",
    "dept_dict['nserc-crsng.gc.ca'] = 'NSERC/CRSNG'\n",
    "dept_dict['pbc-clcc.gc.ca'] = 'PBC/CLCC'\n",
    "dept_dict['pco.bcp.gc.ca'] = 'PCO/BCP'\n",
    "dept_dict['pipsc.ca'] = 'PIPSC/IPFPC'\n",
    "dept_dict['ps.sp.gc.ca'] = 'PS/SP'\n",
    "dept_dict['servicecanada.gc.ca.gc.ca'] = 'HRSDC/RHDSC'\n",
    "dept_dict['fintrac-canafe.gc.ca'] = 'FINTRAC'\n",
    "dept_dict['gmail.com'] = 'GMAIL'\n",
    "dept_dict['tribunbal.gc.ca'] = 'TRIBUNAL'"
   ]
  },
  {
   "cell_type": "code",
   "execution_count": null,
   "metadata": {
    "collapsed": true
   },
   "outputs": [],
   "source": []
  },
  {
   "cell_type": "code",
   "execution_count": 7,
   "metadata": {
    "collapsed": false
   },
   "outputs": [],
   "source": [
    "dept_list = []\n",
    "\n",
    "for k, v in dept_dict.items():\n",
    "    dept_list.append(v)\n",
    "\n",
    "dept_list = set(dept_list)"
   ]
  },
  {
   "cell_type": "code",
   "execution_count": 8,
   "metadata": {
    "collapsed": false
   },
   "outputs": [],
   "source": [
    "# Load CIOC members and FTE counts\n",
    "\n",
    "cioc_depts = pd.read_csv(os.path.join(data_path, 'CIOC_depts_jan_2016.csv'),\n",
    "                        thousands=',')"
   ]
  },
  {
   "cell_type": "code",
   "execution_count": 9,
   "metadata": {
    "collapsed": false
   },
   "outputs": [
    {
     "data": {
      "text/html": [
       "<div>\n",
       "<table border=\"1\" class=\"dataframe\">\n",
       "  <thead>\n",
       "    <tr style=\"text-align: right;\">\n",
       "      <th></th>\n",
       "      <th>Department</th>\n",
       "      <th>FTEs \r\n",
       "as of March 31st</th>\n",
       "    </tr>\n",
       "  </thead>\n",
       "  <tbody>\n",
       "    <tr>\n",
       "      <th>0</th>\n",
       "      <td>AAFC/AAC</td>\n",
       "      <td>4303</td>\n",
       "    </tr>\n",
       "    <tr>\n",
       "      <th>1</th>\n",
       "      <td>AANDC/AANDC</td>\n",
       "      <td>4049</td>\n",
       "    </tr>\n",
       "    <tr>\n",
       "      <th>2</th>\n",
       "      <td>ACOA/APECA</td>\n",
       "      <td>591</td>\n",
       "    </tr>\n",
       "    <tr>\n",
       "      <th>3</th>\n",
       "      <td>CANADA</td>\n",
       "      <td>6000</td>\n",
       "    </tr>\n",
       "    <tr>\n",
       "      <th>4</th>\n",
       "      <td>CBSA/ASFC</td>\n",
       "      <td>13297</td>\n",
       "    </tr>\n",
       "  </tbody>\n",
       "</table>\n",
       "</div>"
      ],
      "text/plain": [
       "    Department  FTEs \\r\\nas of March 31st\n",
       "0     AAFC/AAC                       4303\n",
       "1  AANDC/AANDC                       4049\n",
       "2   ACOA/APECA                        591\n",
       "3       CANADA                       6000\n",
       "4    CBSA/ASFC                      13297"
      ]
     },
     "execution_count": 9,
     "metadata": {},
     "output_type": "execute_result"
    }
   ],
   "source": [
    "cioc_depts.head()"
   ]
  },
  {
   "cell_type": "code",
   "execution_count": null,
   "metadata": {
    "collapsed": false
   },
   "outputs": [],
   "source": []
  },
  {
   "cell_type": "markdown",
   "metadata": {},
   "source": [
    "## Connect to DB"
   ]
  },
  {
   "cell_type": "code",
   "execution_count": 10,
   "metadata": {
    "collapsed": false
   },
   "outputs": [
    {
     "name": "stdout",
     "output_type": "stream",
     "text": [
      "Enter Password: gcped!a\n"
     ]
    }
   ],
   "source": [
    "password = input('Enter Password: ')"
   ]
  },
  {
   "cell_type": "code",
   "execution_count": 11,
   "metadata": {
    "collapsed": true
   },
   "outputs": [],
   "source": [
    "# MariahDB = 165\n",
    "# MYSQL = 117\n",
    "\n",
    "db_connection = \"mysql+pymysql://root:{}@192.168.2.117:3306/elgg112\".format(\n",
    "    password)"
   ]
  },
  {
   "cell_type": "code",
   "execution_count": 12,
   "metadata": {
    "collapsed": false
   },
   "outputs": [],
   "source": [
    "engine = sq.create_engine(db_connection,encoding='latin1', echo=False)"
   ]
  },
  {
   "cell_type": "code",
   "execution_count": 13,
   "metadata": {
    "collapsed": false
   },
   "outputs": [],
   "source": [
    "conn = engine.connect()"
   ]
  },
  {
   "cell_type": "code",
   "execution_count": 14,
   "metadata": {
    "collapsed": false
   },
   "outputs": [
    {
     "data": {
      "text/plain": [
       "<sqlalchemy.engine.base.Connection at 0x20032889b0>"
      ]
     },
     "execution_count": 14,
     "metadata": {},
     "output_type": "execute_result"
    }
   ],
   "source": [
    "engine.connect()"
   ]
  },
  {
   "cell_type": "code",
   "execution_count": null,
   "metadata": {
    "collapsed": true
   },
   "outputs": [],
   "source": []
  },
  {
   "cell_type": "code",
   "execution_count": 15,
   "metadata": {
    "collapsed": false
   },
   "outputs": [],
   "source": [
    "from sqlalchemy.orm import sessionmaker, relationship\n",
    "from sqlalchemy.ext.automap import automap_base\n",
    "from sqlalchemy import and_, or_\n",
    "Session = sessionmaker(bind=engine)"
   ]
  },
  {
   "cell_type": "code",
   "execution_count": 16,
   "metadata": {
    "collapsed": true
   },
   "outputs": [],
   "source": [
    "Session.configure(bind=engine)\n",
    "session = Session()"
   ]
  },
  {
   "cell_type": "code",
   "execution_count": 17,
   "metadata": {
    "collapsed": false
   },
   "outputs": [],
   "source": [
    "Base = automap_base()\n",
    "\n",
    "Base.prepare(engine, reflect=True)"
   ]
  },
  {
   "cell_type": "code",
   "execution_count": 18,
   "metadata": {
    "collapsed": false
   },
   "outputs": [],
   "source": [
    "# Set up mappings\n",
    "\n",
    "Users = Base.classes.elggusers_entity\n",
    "Groups = Base.classes.elgggroups_entity\n",
    "Relationships = Base.classes.elggentity_relationships\n",
    "Entities = Base.classes.elggentities\n",
    "Objects = Base.classes.elggobjects_entity\n",
    "MetaData = Base.classes.elggmetadata\n",
    "MetaStrings = Base.classes.elggmetastrings\n",
    "Annotations = Base.classes.elggannotations\n"
   ]
  },
  {
   "cell_type": "markdown",
   "metadata": {},
   "source": [
    "### Guide to Elgg Entities\n",
    "\n",
    "Blogs = Entities(subtype=5)\n",
    "Group_Members = Users(relationship=member)\n",
    "Discussions = Entities(subtype=7)\n",
    "Pages = Entities(subtype=10)\n",
    "Wire = Entities(subtype=17)\n",
    "\n",
    "Content = Entities(subtype) -> entity_guid\n",
    "    Elggmetadata(entity_guid) -> name_id, value_id\n",
    "    Elggmetastrings(name_id OR value_id)\n",
    "    \n",
    "#Comments\n",
    "Blog is container entity - GUID = blog guid\n",
    "\n",
    "Blog guid = 10\n",
    "search container for blog guid, return container guid\n",
    "elggmetadata(container_guid)\n",
    "Elggmetastrings(name_id OR value_id)\n",
    "\n",
    "#Skills\n",
    "user_GUID -> elggmetadata(container_guid) - name_id = 60"
   ]
  },
  {
   "cell_type": "code",
   "execution_count": 19,
   "metadata": {
    "collapsed": true
   },
   "outputs": [],
   "source": [
    "# Set up subtype objects of interest\n",
    "\n",
    "subtypes = {'blogs': 5,\n",
    "            'discussions': 7,\n",
    "            'pages': 10,\n",
    "            'wires': 17,\n",
    "            'files': 1,\n",
    "            'images': 19,\n",
    "            'bookmarks': 8,\n",
    "            'ideas': 42\n",
    "           }\n",
    "\n",
    "subtype_list = \"5 7 10 17 1 19 8 42\".split()"
   ]
  },
  {
   "cell_type": "code",
   "execution_count": null,
   "metadata": {
    "collapsed": true
   },
   "outputs": [],
   "source": []
  },
  {
   "cell_type": "code",
   "execution_count": 20,
   "metadata": {
    "collapsed": false
   },
   "outputs": [
    {
     "name": "stdout",
     "output_type": "stream",
     "text": [
      "['cometchat', 'cometchat_announcements', 'cometchat_apehistory', 'cometchat_block', 'cometchat_chatroommessages', 'cometchat_chatrooms', 'cometchat_chatrooms_users', 'cometchat_comethistory', 'cometchat_games', 'cometchat_guests', 'cometchat_messages_old', 'cometchat_status', 'cometchat_status_old', 'cometchat_videochatsessions', 'contact_list', 'elggaccess_collection_membership', 'elggaccess_collections', 'elggannotations', 'elggapi_users', 'elggconfig', 'elggdatalists', 'elggelmah_log', 'elggentities', 'elggentity_relationships', 'elggentity_subtypes', 'elgggeocode_cache', 'elgggroups_entity', 'elgghmac_cache', 'elggmetadata', 'elggmetastrings', 'elggobjects_entity', 'elggprivate_settings', 'elggqueue', 'elggriver', 'elggsites_entity', 'elggsystem_log', 'elggusers_apisessions', 'elggusers_entity', 'elggusers_remember_me_cookies', 'elggusers_sessions', 'email_extensions', 'entities_counter', 'page_access_log', 'pma__bookmark', 'pma__central_columns', 'pma__column_info', 'pma__designer_settings', 'pma__export_templates', 'pma__favorite', 'pma__history', 'pma__navigationhiding', 'pma__pdf_pages', 'pma__recent', 'pma__relation', 'pma__savedsearches', 'pma__table_coords', 'pma__table_info', 'pma__table_uiprefs', 'pma__tracking', 'pma__userconfig', 'pma__usergroups', 'pma__users', 'tmpGrpActivity', 'vexperience', 'vexperience_pivot']\n"
     ]
    }
   ],
   "source": [
    "# Print list of table names\n",
    "\n",
    "from sqlalchemy.engine import reflection\n",
    "\n",
    "insp = reflection.Inspector.from_engine(engine)\n",
    "print(insp.get_table_names())"
   ]
  },
  {
   "cell_type": "markdown",
   "metadata": {
    "collapsed": false
   },
   "source": [
    "## Test for Users"
   ]
  },
  {
   "cell_type": "markdown",
   "metadata": {
    "collapsed": false
   },
   "source": [
    "## Test for Blogs"
   ]
  },
  {
   "cell_type": "code",
   "execution_count": 21,
   "metadata": {
    "collapsed": false
   },
   "outputs": [],
   "source": [
    "# Test for pulling out blog info\n",
    "blogs = []\n",
    "\n",
    "for entity, user, objects in session.query(\n",
    "    Entities, Users, Objects).filter(\n",
    "        Entities.subtype == 5,\n",
    "        Objects.guid == Entities.guid,\n",
    "        Entities.owner_guid == Users.guid,\n",
    "        Users.email.contains('christopher.allison')):\n",
    "    blogs.append((entity.guid, entity.subtype, user.name,\n",
    "                  objects.title, objects.description))"
   ]
  },
  {
   "cell_type": "code",
   "execution_count": 22,
   "metadata": {
    "collapsed": false
   },
   "outputs": [
    {
     "data": {
      "text/plain": [
       "(227255,\n",
       " 5,\n",
       " 'Chris Allison',\n",
       " 'Top 10 iPad apps for govvies!',\n",
       " '<p>So, you\\'ve finally received your work iPad as part of your departmental toolkit.&nbsp; You undderstand Notepad and can use the mail app, but apart from Angry Birds Star Wars, what else is there than can help you get through your day - and more importantly help you do the best work?</p>\\r\\n<p>&nbsp;</p>\\r\\n<p>As an unofficial iPad workaholic, here are my top 10 recommendations for you:</p>\\r\\n<p>&nbsp;</p>\\r\\n<p><strong><span style=\"color: #000000;\">#1 &ndash; </span><a href=\"http://itunes.apple.com/us/app/ithoughtshd-mindmapping/id369020033?mt=8\"><span style=\"color: #0000ff;\">iThoughtsHD</span></a></strong><span style=\"color: #000000;\"> &ndash; this is the best mind-mapping application on the iPad and frankly rivals most of what you can purchase on the PC for several hundred dollars more per licence.&nbsp;&nbsp;The app adapts well to wireless keyboard use, receives regular updates and, with a bit of practice, you\\'ll be mind-mapping like a pro.&nbsp; Highly recommended.</span></p>\\r\\n<p>&nbsp;</p>\\r\\n<p><span style=\"color: #000000;\">#<strong>2 &ndash; </strong></span><strong><a href=\"http://itunes.apple.com/ca/app/goodreader-for-ipad/id363448914?mt=8\"><span style=\"color: #0000ff;\">Goodreader</span></a></strong><span style=\"color: #000000;\"> &ndash; a multifunctional PDF viewer with the ability to highlight, underline, doodle and add notations. &nbsp;Very fast, versatile and easily the most used application on my iPad.</span></p>\\r\\n<p>&nbsp;</p>\\r\\n<p><span style=\"color: #000000;\"><strong>#3 &ndash; Keynote, Numbers and Pages</strong> (the Apple productivity apps) &ndash; while not completely functional, they definitely do the job. &nbsp;For a better interface, I highly recommend an Apple Bluetooth keyboard, which bumps up the performance of these apps to near laptop levels.&nbsp; Also, there is an app add-on for Numbers called Templates, which gives you about 20 new options for your powerpoint presentations including maps, charts and infographics.</span></p>\\r\\n<p>&nbsp;</p>\\r\\n<p><strong><span style=\"color: #000000;\">#4 &ndash; </span><a href=\"http://itunes.apple.com/us/app/the-world-factbook-2011/id310064645?mt=8\"><span style=\"color: #0000ff;\">World Fact Book</span></a></strong><span style=\"color: #000000;\"> &ndash; very useful for baseline geographic, social and economic information on pretty much every country in the world. &nbsp;Updated regularly.</span></p>\\r\\n<p>&nbsp;</p>\\r\\n<p><strong><span style=\"color: #000000;\">#5 &ndash; </span><a href=\"http://itunes.apple.com/ca/app/french-dictionary/id326290564?mt=8\"><span style=\"color: #0000ff;\">Larousse Dictionnaire Fran&ccedil;ais</span></a></strong><span style=\"color: #000000;\"> &ndash; an excellent French dictionary with history, conjugation and&nbsp;literary citation for $6.</span></p>\\r\\n<p>&nbsp;</p>\\r\\n<p><span style=\"color: #000000;\"><strong>#6 <a href=\"https://itunes.apple.com/ca/app/paper-by-fiftythree/id506003812?mt=8\">Paper</a></strong> - a beautiful app that, with the $7.99 upgrades for pencils, markers and watercolour, lets you put together visual maps, rough sketches and concept art effortlessly.&nbsp; People more talented than I also use it for this thing called \"art\".&nbsp; </span></p>\\r\\n<p>&nbsp;</p>\\r\\n<p><span style=\"color: #000000;\"><strong>#7 <a href=\"https://itunes.apple.com/us/app/inkflow-think-visually!/id519524685?mt=8\">Inkflow</a></strong> - More than just your basic notebook app, Inkflow lets you write, draw and sketch on a whiteboard and THEN copy, cut, resize, duplicate and rotate your magnum opus using a simple loop tool.&nbsp; The app also supports multiple workbooks and exports easily to PDF.&nbsp; If you love your iPad, but miss your notebook, this app is for you.&nbsp; </span></p>\\r\\n<p>&nbsp;</p>\\r\\n<p><span style=\"color: #000000;\"><strong>#8 <a href=\"https://itunes.apple.com/ca/app/inshort/id423213182?mt=8\">inShort</a></strong> - This one is a bit more specific.&nbsp; inShort is a project management tool you can use to develop workflows, Gantt charts and resource allocation to manage your project effectively.&nbsp; It has a pretty steep learning curve, but if you\\'re willing to put some time in, the results are impressive.&nbsp; inShort can link to your contacts, calendar and can publish a bewildering array of results in PDF format. </span></p>\\r\\n<p>&nbsp;</p>\\r\\n<p><span style=\"color: #000000;\"><strong>#9 <a href=\"https://itunes.apple.com/ca/app/evernote/id281796108?mt=8\">Evernote</a></strong> - Some would say that this should be #1.&nbsp; Evernote is an app that allows robust notetaking, including photos and&nbsp;voice memos, and synchronizes them across any device with the app installed, including your desktop.&nbsp;You can tag your notes an organize them by location, date or subject.&nbsp; This is the super notebook of the future; only hampered for Gov. work by the fact that the info is stored in the Evernote Cloud. </span></p>\\r\\n<p><span style=\"color: #000000;\"></span>&nbsp;</p>\\r\\n<p><span style=\"color: #000000;\"><strong>#10 <a href=\"https://itunes.apple.com/ca/app/hootsuite-for-twitter-facebook/id341249709?mt=8\">Hootsuite </a>for Twitter</strong> - If you are into social media, you are probably already using your app of choice.&nbsp; Hootsuite for iPad, however, is a thing of beauty.&nbsp; Easily track multiple timelines, mentions, and hashtags on a single screen with an attractive and simple user interface.&nbsp; If you have an iPad with a cell network, you owe it to yourself to check this out. </span></p>\\r\\n<p><span style=\"color: #000000;\"></span>&nbsp;</p>\\r\\n<p><span style=\"color: #000000;\"></span>&nbsp;</p>\\r\\n<p><span style=\"color: #000000;\">#11 <a href=\"https://itunes.apple.com/ca/app/appadvice/id364906378?mt=8\">AppAdvice </a>- Why the heck do you have a #11 on a top 10 list, you ask?&nbsp;Because although AppAdvice won\\'t help you get work done, it will help you stay abreast of the bewildering number of new applications that are coming out daily and focus your attention on the gems.&nbsp; This free app provides generally well written commentary and has become&nbsp;one of my&nbsp;trusted and daily referenced sources of information.&nbsp; </span></p>\\r\\n<p><span style=\"color: #000000;\"></span>&nbsp;</p>\\r\\n<p><span style=\"color: #000000;\">So, there you go.&nbsp;This should be enough to get you started, but what are your top apps?&nbsp; Does someone have a list for Android?&nbsp;Think one of my suggestions is junk?&nbsp;Let\\'s discuss!</span></p>\\r\\n<p>&nbsp;</p>\\r\\n<p><span style=\"color: #000000;\">Signing out - C</span></p>')"
      ]
     },
     "execution_count": 22,
     "metadata": {},
     "output_type": "execute_result"
    }
   ],
   "source": [
    "blogs[1]"
   ]
  },
  {
   "cell_type": "markdown",
   "metadata": {},
   "source": [
    "## Test for running raw SQL"
   ]
  },
  {
   "cell_type": "code",
   "execution_count": 23,
   "metadata": {
    "collapsed": false
   },
   "outputs": [],
   "source": [
    "from sqlalchemy.sql import select, text"
   ]
  },
  {
   "cell_type": "markdown",
   "metadata": {},
   "source": [
    "## Pull of dept content"
   ]
  },
  {
   "cell_type": "code",
   "execution_count": 24,
   "metadata": {
    "collapsed": false
   },
   "outputs": [],
   "source": [
    "# Take 2 - single query of DB to pull core collaborative content\n",
    "# Works just fine\n",
    "\n",
    "results = []\n",
    "\n",
    "for e, u, o in session.query(\n",
    "    Entities, Users, Objects).filter(\n",
    "    Entities.owner_guid == Users.guid,\n",
    "    Entities.guid == Objects.guid,\n",
    "    Entities.subtype.in_(subtype_list)):\n",
    "    results.append((\n",
    "            e.guid, \n",
    "            e.subtype, \n",
    "            u.name,\n",
    "            find_dept(u.email.lower()),\n",
    "            convert_unixtime(e.time_created))\n",
    "                   )"
   ]
  },
  {
   "cell_type": "code",
   "execution_count": 25,
   "metadata": {
    "collapsed": false
   },
   "outputs": [
    {
     "data": {
      "text/plain": [
       "153367"
      ]
     },
     "execution_count": 25,
     "metadata": {},
     "output_type": "execute_result"
    }
   ],
   "source": [
    "len(results)"
   ]
  },
  {
   "cell_type": "code",
   "execution_count": null,
   "metadata": {
    "collapsed": false
   },
   "outputs": [],
   "source": []
  },
  {
   "cell_type": "code",
   "execution_count": null,
   "metadata": {
    "collapsed": false
   },
   "outputs": [],
   "source": []
  },
  {
   "cell_type": "code",
   "execution_count": null,
   "metadata": {
    "collapsed": false
   },
   "outputs": [],
   "source": []
  },
  {
   "cell_type": "code",
   "execution_count": 26,
   "metadata": {
    "collapsed": false
   },
   "outputs": [],
   "source": [
    "# Transform raw content into dict\n",
    "# Might be a better way to do this with Counter\n",
    "\n",
    "dept_stats = {}\n",
    "\n",
    "for d in dept_list:\n",
    "    dept_stats[d] = {}\n",
    "    for s in subtype_list:\n",
    "        dept_stats[d][s] = 0\n",
    "\n",
    "for r in results:\n",
    "    guid, subtype, name, dept, created_date = r\n",
    "    if dept in dept_list:\n",
    "        dept_stats[dept][str(subtype)] += 1\n",
    "\n"
   ]
  },
  {
   "cell_type": "code",
   "execution_count": 27,
   "metadata": {
    "collapsed": false
   },
   "outputs": [
    {
     "data": {
      "text/plain": [
       "{'1': 464, '10': 6, '17': 45, '19': 66, '42': 4, '5': 16, '7': 141, '8': 118}"
      ]
     },
     "execution_count": 27,
     "metadata": {},
     "output_type": "execute_result"
    }
   ],
   "source": [
    "dept_stats['RCMP/GRC']"
   ]
  },
  {
   "cell_type": "code",
   "execution_count": 28,
   "metadata": {
    "collapsed": false
   },
   "outputs": [
    {
     "name": "stdout",
     "output_type": "stream",
     "text": [
      "70399\n"
     ]
    }
   ],
   "source": [
    "files = 0\n",
    "\n",
    "for d in dept_stats:\n",
    "    files += dept_stats[d]['1']\n",
    "\n",
    "print(files)\n",
    "        "
   ]
  },
  {
   "cell_type": "code",
   "execution_count": 29,
   "metadata": {
    "collapsed": false
   },
   "outputs": [],
   "source": [
    "# Transform dict indo pd.DataFrame\n",
    "\n",
    "df = pd.DataFrame.from_dict(dept_stats, orient='index')"
   ]
  },
  {
   "cell_type": "code",
   "execution_count": 30,
   "metadata": {
    "collapsed": false
   },
   "outputs": [],
   "source": [
    "# Add column headers\n",
    "\n",
    "df.rename(columns = {'5' : 'Blogs', '7' : 'Discussions', '10' : 'Pages', '17' : 'Wires',\n",
    "                     '8' : 'Bookmarks', '42' : 'Ideas', '19' : 'Images', '1' : 'Files'}, inplace=True)"
   ]
  },
  {
   "cell_type": "code",
   "execution_count": null,
   "metadata": {
    "collapsed": false
   },
   "outputs": [],
   "source": []
  },
  {
   "cell_type": "code",
   "execution_count": 31,
   "metadata": {
    "collapsed": false
   },
   "outputs": [
    {
     "data": {
      "text/html": [
       "<div>\n",
       "<table border=\"1\" class=\"dataframe\">\n",
       "  <thead>\n",
       "    <tr style=\"text-align: right;\">\n",
       "      <th></th>\n",
       "      <th>Images</th>\n",
       "      <th>Wires</th>\n",
       "      <th>Discussions</th>\n",
       "      <th>Blogs</th>\n",
       "      <th>Bookmarks</th>\n",
       "      <th>Ideas</th>\n",
       "      <th>Files</th>\n",
       "      <th>Pages</th>\n",
       "    </tr>\n",
       "  </thead>\n",
       "  <tbody>\n",
       "    <tr>\n",
       "      <th>CANADA</th>\n",
       "      <td>1773</td>\n",
       "      <td>2873</td>\n",
       "      <td>2692</td>\n",
       "      <td>1547</td>\n",
       "      <td>1821</td>\n",
       "      <td>269</td>\n",
       "      <td>9306</td>\n",
       "      <td>137</td>\n",
       "    </tr>\n",
       "    <tr>\n",
       "      <th>CRA/ARC</th>\n",
       "      <td>8106</td>\n",
       "      <td>1055</td>\n",
       "      <td>2001</td>\n",
       "      <td>1510</td>\n",
       "      <td>1101</td>\n",
       "      <td>233</td>\n",
       "      <td>5059</td>\n",
       "      <td>345</td>\n",
       "    </tr>\n",
       "    <tr>\n",
       "      <th>TBS/SCT</th>\n",
       "      <td>1926</td>\n",
       "      <td>2343</td>\n",
       "      <td>1516</td>\n",
       "      <td>948</td>\n",
       "      <td>1222</td>\n",
       "      <td>94</td>\n",
       "      <td>8899</td>\n",
       "      <td>109</td>\n",
       "    </tr>\n",
       "    <tr>\n",
       "      <th>AANDC/AANDC</th>\n",
       "      <td>1424</td>\n",
       "      <td>300</td>\n",
       "      <td>445</td>\n",
       "      <td>698</td>\n",
       "      <td>425</td>\n",
       "      <td>49</td>\n",
       "      <td>1824</td>\n",
       "      <td>17</td>\n",
       "    </tr>\n",
       "    <tr>\n",
       "      <th>PWGSC/TPSGC</th>\n",
       "      <td>2408</td>\n",
       "      <td>525</td>\n",
       "      <td>1035</td>\n",
       "      <td>619</td>\n",
       "      <td>1143</td>\n",
       "      <td>66</td>\n",
       "      <td>8251</td>\n",
       "      <td>229</td>\n",
       "    </tr>\n",
       "  </tbody>\n",
       "</table>\n",
       "</div>"
      ],
      "text/plain": [
       "             Images  Wires  Discussions  Blogs  Bookmarks  Ideas  Files  Pages\n",
       "CANADA         1773   2873         2692   1547       1821    269   9306    137\n",
       "CRA/ARC        8106   1055         2001   1510       1101    233   5059    345\n",
       "TBS/SCT        1926   2343         1516    948       1222     94   8899    109\n",
       "AANDC/AANDC    1424    300          445    698        425     49   1824     17\n",
       "PWGSC/TPSGC    2408    525         1035    619       1143     66   8251    229"
      ]
     },
     "execution_count": 31,
     "metadata": {},
     "output_type": "execute_result"
    }
   ],
   "source": [
    "df.sort_values(by='Blogs', ascending=False ).head()"
   ]
  },
  {
   "cell_type": "code",
   "execution_count": null,
   "metadata": {
    "collapsed": true
   },
   "outputs": [],
   "source": []
  },
  {
   "cell_type": "code",
   "execution_count": 32,
   "metadata": {
    "collapsed": false
   },
   "outputs": [],
   "source": [
    "df.reset_index(drop=False, inplace=True)"
   ]
  },
  {
   "cell_type": "code",
   "execution_count": 33,
   "metadata": {
    "collapsed": false
   },
   "outputs": [],
   "source": [
    "df.rename(columns = {'index': 'Department'}, inplace=True)"
   ]
  },
  {
   "cell_type": "code",
   "execution_count": 34,
   "metadata": {
    "collapsed": false
   },
   "outputs": [],
   "source": [
    "df = df[['Department', 'Blogs', 'Discussions', 'Pages', 'Wires',\n",
    "         'Bookmarks', 'Ideas', 'Images', 'Files']]"
   ]
  },
  {
   "cell_type": "code",
   "execution_count": 35,
   "metadata": {
    "collapsed": false
   },
   "outputs": [],
   "source": [
    "cioc = pd.merge(df, cioc_depts, how='right')"
   ]
  },
  {
   "cell_type": "code",
   "execution_count": 36,
   "metadata": {
    "collapsed": false
   },
   "outputs": [
    {
     "data": {
      "text/html": [
       "<div>\n",
       "<table border=\"1\" class=\"dataframe\">\n",
       "  <thead>\n",
       "    <tr style=\"text-align: right;\">\n",
       "      <th></th>\n",
       "      <th>Department</th>\n",
       "      <th>Blogs</th>\n",
       "      <th>Discussions</th>\n",
       "      <th>Pages</th>\n",
       "      <th>Wires</th>\n",
       "      <th>Bookmarks</th>\n",
       "      <th>Ideas</th>\n",
       "      <th>Images</th>\n",
       "      <th>Files</th>\n",
       "      <th>FTEs \r\n",
       "as of March 31st</th>\n",
       "    </tr>\n",
       "  </thead>\n",
       "  <tbody>\n",
       "    <tr>\n",
       "      <th>0</th>\n",
       "      <td>AAFC/AAC</td>\n",
       "      <td>36</td>\n",
       "      <td>102</td>\n",
       "      <td>1</td>\n",
       "      <td>10</td>\n",
       "      <td>82</td>\n",
       "      <td>11</td>\n",
       "      <td>111</td>\n",
       "      <td>970</td>\n",
       "      <td>4303</td>\n",
       "    </tr>\n",
       "    <tr>\n",
       "      <th>1</th>\n",
       "      <td>AANDC/AANDC</td>\n",
       "      <td>698</td>\n",
       "      <td>445</td>\n",
       "      <td>17</td>\n",
       "      <td>300</td>\n",
       "      <td>425</td>\n",
       "      <td>49</td>\n",
       "      <td>1424</td>\n",
       "      <td>1824</td>\n",
       "      <td>4049</td>\n",
       "    </tr>\n",
       "    <tr>\n",
       "      <th>2</th>\n",
       "      <td>ACOA/APECA</td>\n",
       "      <td>19</td>\n",
       "      <td>40</td>\n",
       "      <td>0</td>\n",
       "      <td>36</td>\n",
       "      <td>27</td>\n",
       "      <td>4</td>\n",
       "      <td>47</td>\n",
       "      <td>186</td>\n",
       "      <td>591</td>\n",
       "    </tr>\n",
       "    <tr>\n",
       "      <th>3</th>\n",
       "      <td>CANADA</td>\n",
       "      <td>1547</td>\n",
       "      <td>2692</td>\n",
       "      <td>137</td>\n",
       "      <td>2873</td>\n",
       "      <td>1821</td>\n",
       "      <td>269</td>\n",
       "      <td>1773</td>\n",
       "      <td>9306</td>\n",
       "      <td>6000</td>\n",
       "    </tr>\n",
       "    <tr>\n",
       "      <th>4</th>\n",
       "      <td>CBSA/ASFC</td>\n",
       "      <td>27</td>\n",
       "      <td>144</td>\n",
       "      <td>13</td>\n",
       "      <td>169</td>\n",
       "      <td>198</td>\n",
       "      <td>42</td>\n",
       "      <td>358</td>\n",
       "      <td>510</td>\n",
       "      <td>13297</td>\n",
       "    </tr>\n",
       "    <tr>\n",
       "      <th>5</th>\n",
       "      <td>CFIA/ACIA</td>\n",
       "      <td>326</td>\n",
       "      <td>476</td>\n",
       "      <td>83</td>\n",
       "      <td>193</td>\n",
       "      <td>372</td>\n",
       "      <td>33</td>\n",
       "      <td>1145</td>\n",
       "      <td>1142</td>\n",
       "      <td>5709</td>\n",
       "    </tr>\n",
       "    <tr>\n",
       "      <th>6</th>\n",
       "      <td>CIC</td>\n",
       "      <td>323</td>\n",
       "      <td>1192</td>\n",
       "      <td>96</td>\n",
       "      <td>1021</td>\n",
       "      <td>519</td>\n",
       "      <td>72</td>\n",
       "      <td>3519</td>\n",
       "      <td>1141</td>\n",
       "      <td>5611</td>\n",
       "    </tr>\n",
       "    <tr>\n",
       "      <th>7</th>\n",
       "      <td>CNSC/CCSN</td>\n",
       "      <td>0</td>\n",
       "      <td>20</td>\n",
       "      <td>0</td>\n",
       "      <td>0</td>\n",
       "      <td>8</td>\n",
       "      <td>0</td>\n",
       "      <td>9</td>\n",
       "      <td>8</td>\n",
       "      <td>833</td>\n",
       "    </tr>\n",
       "    <tr>\n",
       "      <th>8</th>\n",
       "      <td>CRA/ARC</td>\n",
       "      <td>1510</td>\n",
       "      <td>2001</td>\n",
       "      <td>345</td>\n",
       "      <td>1055</td>\n",
       "      <td>1101</td>\n",
       "      <td>233</td>\n",
       "      <td>8106</td>\n",
       "      <td>5059</td>\n",
       "      <td>35862</td>\n",
       "    </tr>\n",
       "    <tr>\n",
       "      <th>9</th>\n",
       "      <td>CSA/ASC</td>\n",
       "      <td>23</td>\n",
       "      <td>24</td>\n",
       "      <td>0</td>\n",
       "      <td>5</td>\n",
       "      <td>26</td>\n",
       "      <td>2</td>\n",
       "      <td>14</td>\n",
       "      <td>50</td>\n",
       "      <td>579</td>\n",
       "    </tr>\n",
       "    <tr>\n",
       "      <th>10</th>\n",
       "      <td>CSE/DND</td>\n",
       "      <td>5</td>\n",
       "      <td>25</td>\n",
       "      <td>0</td>\n",
       "      <td>6</td>\n",
       "      <td>28</td>\n",
       "      <td>0</td>\n",
       "      <td>6</td>\n",
       "      <td>619</td>\n",
       "      <td>2076</td>\n",
       "    </tr>\n",
       "    <tr>\n",
       "      <th>11</th>\n",
       "      <td>CSPS/EFPC</td>\n",
       "      <td>169</td>\n",
       "      <td>323</td>\n",
       "      <td>0</td>\n",
       "      <td>131</td>\n",
       "      <td>195</td>\n",
       "      <td>12</td>\n",
       "      <td>252</td>\n",
       "      <td>772</td>\n",
       "      <td>577</td>\n",
       "    </tr>\n",
       "    <tr>\n",
       "      <th>12</th>\n",
       "      <td>DFAITD/MAECD</td>\n",
       "      <td>142</td>\n",
       "      <td>426</td>\n",
       "      <td>0</td>\n",
       "      <td>106</td>\n",
       "      <td>397</td>\n",
       "      <td>61</td>\n",
       "      <td>129</td>\n",
       "      <td>825</td>\n",
       "      <td>5558</td>\n",
       "    </tr>\n",
       "    <tr>\n",
       "      <th>13</th>\n",
       "      <td>DFO/MPO</td>\n",
       "      <td>102</td>\n",
       "      <td>512</td>\n",
       "      <td>2</td>\n",
       "      <td>122</td>\n",
       "      <td>204</td>\n",
       "      <td>60</td>\n",
       "      <td>1152</td>\n",
       "      <td>1248</td>\n",
       "      <td>9315</td>\n",
       "    </tr>\n",
       "    <tr>\n",
       "      <th>14</th>\n",
       "      <td>DND/DDN</td>\n",
       "      <td>214</td>\n",
       "      <td>391</td>\n",
       "      <td>1</td>\n",
       "      <td>297</td>\n",
       "      <td>491</td>\n",
       "      <td>100</td>\n",
       "      <td>587</td>\n",
       "      <td>1017</td>\n",
       "      <td>21646</td>\n",
       "    </tr>\n",
       "    <tr>\n",
       "      <th>15</th>\n",
       "      <td>EC</td>\n",
       "      <td>124</td>\n",
       "      <td>300</td>\n",
       "      <td>4</td>\n",
       "      <td>237</td>\n",
       "      <td>194</td>\n",
       "      <td>39</td>\n",
       "      <td>141</td>\n",
       "      <td>1493</td>\n",
       "      <td>5935</td>\n",
       "    </tr>\n",
       "    <tr>\n",
       "      <th>16</th>\n",
       "      <td>FIN</td>\n",
       "      <td>27</td>\n",
       "      <td>31</td>\n",
       "      <td>0</td>\n",
       "      <td>1</td>\n",
       "      <td>6</td>\n",
       "      <td>1</td>\n",
       "      <td>11</td>\n",
       "      <td>180</td>\n",
       "      <td>699</td>\n",
       "    </tr>\n",
       "    <tr>\n",
       "      <th>17</th>\n",
       "      <td>HC/SC</td>\n",
       "      <td>439</td>\n",
       "      <td>806</td>\n",
       "      <td>234</td>\n",
       "      <td>395</td>\n",
       "      <td>742</td>\n",
       "      <td>89</td>\n",
       "      <td>1693</td>\n",
       "      <td>15203</td>\n",
       "      <td>8202</td>\n",
       "    </tr>\n",
       "    <tr>\n",
       "      <th>18</th>\n",
       "      <td>HRSDC/RHDSC</td>\n",
       "      <td>290</td>\n",
       "      <td>539</td>\n",
       "      <td>7</td>\n",
       "      <td>445</td>\n",
       "      <td>502</td>\n",
       "      <td>98</td>\n",
       "      <td>1809</td>\n",
       "      <td>1865</td>\n",
       "      <td>20423</td>\n",
       "    </tr>\n",
       "    <tr>\n",
       "      <th>19</th>\n",
       "      <td>JUSTICE</td>\n",
       "      <td>144</td>\n",
       "      <td>315</td>\n",
       "      <td>0</td>\n",
       "      <td>114</td>\n",
       "      <td>136</td>\n",
       "      <td>25</td>\n",
       "      <td>257</td>\n",
       "      <td>946</td>\n",
       "      <td>4108</td>\n",
       "    </tr>\n",
       "    <tr>\n",
       "      <th>20</th>\n",
       "      <td>LAC/BAC</td>\n",
       "      <td>3</td>\n",
       "      <td>7</td>\n",
       "      <td>0</td>\n",
       "      <td>23</td>\n",
       "      <td>13</td>\n",
       "      <td>0</td>\n",
       "      <td>2</td>\n",
       "      <td>78</td>\n",
       "      <td>886</td>\n",
       "    </tr>\n",
       "    <tr>\n",
       "      <th>21</th>\n",
       "      <td>NRCAN/RNCAN</td>\n",
       "      <td>260</td>\n",
       "      <td>154</td>\n",
       "      <td>2</td>\n",
       "      <td>110</td>\n",
       "      <td>154</td>\n",
       "      <td>28</td>\n",
       "      <td>228</td>\n",
       "      <td>601</td>\n",
       "      <td>3659</td>\n",
       "    </tr>\n",
       "    <tr>\n",
       "      <th>22</th>\n",
       "      <td>PCH</td>\n",
       "      <td>173</td>\n",
       "      <td>101</td>\n",
       "      <td>0</td>\n",
       "      <td>12</td>\n",
       "      <td>33</td>\n",
       "      <td>26</td>\n",
       "      <td>54</td>\n",
       "      <td>409</td>\n",
       "      <td>1606</td>\n",
       "    </tr>\n",
       "    <tr>\n",
       "      <th>23</th>\n",
       "      <td>PCO/BCP</td>\n",
       "      <td>19</td>\n",
       "      <td>116</td>\n",
       "      <td>104</td>\n",
       "      <td>121</td>\n",
       "      <td>86</td>\n",
       "      <td>13</td>\n",
       "      <td>188</td>\n",
       "      <td>597</td>\n",
       "      <td>679</td>\n",
       "    </tr>\n",
       "    <tr>\n",
       "      <th>24</th>\n",
       "      <td>PHAC/ASPC</td>\n",
       "      <td>90</td>\n",
       "      <td>125</td>\n",
       "      <td>3</td>\n",
       "      <td>19</td>\n",
       "      <td>148</td>\n",
       "      <td>37</td>\n",
       "      <td>383</td>\n",
       "      <td>824</td>\n",
       "      <td>1942</td>\n",
       "    </tr>\n",
       "    <tr>\n",
       "      <th>25</th>\n",
       "      <td>PS/SP</td>\n",
       "      <td>104</td>\n",
       "      <td>78</td>\n",
       "      <td>0</td>\n",
       "      <td>212</td>\n",
       "      <td>181</td>\n",
       "      <td>4</td>\n",
       "      <td>135</td>\n",
       "      <td>236</td>\n",
       "      <td>918</td>\n",
       "    </tr>\n",
       "    <tr>\n",
       "      <th>26</th>\n",
       "      <td>PSC/CFP</td>\n",
       "      <td>112</td>\n",
       "      <td>149</td>\n",
       "      <td>0</td>\n",
       "      <td>59</td>\n",
       "      <td>134</td>\n",
       "      <td>3</td>\n",
       "      <td>180</td>\n",
       "      <td>561</td>\n",
       "      <td>691</td>\n",
       "    </tr>\n",
       "    <tr>\n",
       "      <th>27</th>\n",
       "      <td>PWGSC/TPSGC</td>\n",
       "      <td>619</td>\n",
       "      <td>1035</td>\n",
       "      <td>229</td>\n",
       "      <td>525</td>\n",
       "      <td>1143</td>\n",
       "      <td>66</td>\n",
       "      <td>2408</td>\n",
       "      <td>8251</td>\n",
       "      <td>11169</td>\n",
       "    </tr>\n",
       "    <tr>\n",
       "      <th>28</th>\n",
       "      <td>SC</td>\n",
       "      <td>1</td>\n",
       "      <td>20</td>\n",
       "      <td>0</td>\n",
       "      <td>3</td>\n",
       "      <td>15</td>\n",
       "      <td>3</td>\n",
       "      <td>3</td>\n",
       "      <td>20</td>\n",
       "      <td>5286</td>\n",
       "    </tr>\n",
       "    <tr>\n",
       "      <th>29</th>\n",
       "      <td>SSC/SPC</td>\n",
       "      <td>84</td>\n",
       "      <td>186</td>\n",
       "      <td>9</td>\n",
       "      <td>51</td>\n",
       "      <td>72</td>\n",
       "      <td>8</td>\n",
       "      <td>43</td>\n",
       "      <td>1468</td>\n",
       "      <td>4937</td>\n",
       "    </tr>\n",
       "    <tr>\n",
       "      <th>30</th>\n",
       "      <td>TBS/SCT</td>\n",
       "      <td>948</td>\n",
       "      <td>1516</td>\n",
       "      <td>109</td>\n",
       "      <td>2343</td>\n",
       "      <td>1222</td>\n",
       "      <td>94</td>\n",
       "      <td>1926</td>\n",
       "      <td>8899</td>\n",
       "      <td>1627</td>\n",
       "    </tr>\n",
       "    <tr>\n",
       "      <th>31</th>\n",
       "      <td>TC</td>\n",
       "      <td>93</td>\n",
       "      <td>304</td>\n",
       "      <td>72</td>\n",
       "      <td>137</td>\n",
       "      <td>201</td>\n",
       "      <td>10</td>\n",
       "      <td>631</td>\n",
       "      <td>822</td>\n",
       "      <td>5071</td>\n",
       "    </tr>\n",
       "    <tr>\n",
       "      <th>32</th>\n",
       "      <td>VAC/ACC</td>\n",
       "      <td>32</td>\n",
       "      <td>107</td>\n",
       "      <td>0</td>\n",
       "      <td>18</td>\n",
       "      <td>57</td>\n",
       "      <td>4</td>\n",
       "      <td>34</td>\n",
       "      <td>75</td>\n",
       "      <td>2709</td>\n",
       "    </tr>\n",
       "  </tbody>\n",
       "</table>\n",
       "</div>"
      ],
      "text/plain": [
       "      Department  Blogs  Discussions  Pages  Wires  Bookmarks  Ideas  Images  \\\n",
       "0       AAFC/AAC     36          102      1     10         82     11     111   \n",
       "1    AANDC/AANDC    698          445     17    300        425     49    1424   \n",
       "2     ACOA/APECA     19           40      0     36         27      4      47   \n",
       "3         CANADA   1547         2692    137   2873       1821    269    1773   \n",
       "4      CBSA/ASFC     27          144     13    169        198     42     358   \n",
       "5      CFIA/ACIA    326          476     83    193        372     33    1145   \n",
       "6            CIC    323         1192     96   1021        519     72    3519   \n",
       "7      CNSC/CCSN      0           20      0      0          8      0       9   \n",
       "8        CRA/ARC   1510         2001    345   1055       1101    233    8106   \n",
       "9        CSA/ASC     23           24      0      5         26      2      14   \n",
       "10       CSE/DND      5           25      0      6         28      0       6   \n",
       "11     CSPS/EFPC    169          323      0    131        195     12     252   \n",
       "12  DFAITD/MAECD    142          426      0    106        397     61     129   \n",
       "13       DFO/MPO    102          512      2    122        204     60    1152   \n",
       "14       DND/DDN    214          391      1    297        491    100     587   \n",
       "15            EC    124          300      4    237        194     39     141   \n",
       "16           FIN     27           31      0      1          6      1      11   \n",
       "17         HC/SC    439          806    234    395        742     89    1693   \n",
       "18   HRSDC/RHDSC    290          539      7    445        502     98    1809   \n",
       "19       JUSTICE    144          315      0    114        136     25     257   \n",
       "20       LAC/BAC      3            7      0     23         13      0       2   \n",
       "21   NRCAN/RNCAN    260          154      2    110        154     28     228   \n",
       "22           PCH    173          101      0     12         33     26      54   \n",
       "23       PCO/BCP     19          116    104    121         86     13     188   \n",
       "24     PHAC/ASPC     90          125      3     19        148     37     383   \n",
       "25         PS/SP    104           78      0    212        181      4     135   \n",
       "26       PSC/CFP    112          149      0     59        134      3     180   \n",
       "27   PWGSC/TPSGC    619         1035    229    525       1143     66    2408   \n",
       "28            SC      1           20      0      3         15      3       3   \n",
       "29       SSC/SPC     84          186      9     51         72      8      43   \n",
       "30       TBS/SCT    948         1516    109   2343       1222     94    1926   \n",
       "31            TC     93          304     72    137        201     10     631   \n",
       "32       VAC/ACC     32          107      0     18         57      4      34   \n",
       "\n",
       "    Files  FTEs \\r\\nas of March 31st  \n",
       "0     970                       4303  \n",
       "1    1824                       4049  \n",
       "2     186                        591  \n",
       "3    9306                       6000  \n",
       "4     510                      13297  \n",
       "5    1142                       5709  \n",
       "6    1141                       5611  \n",
       "7       8                        833  \n",
       "8    5059                      35862  \n",
       "9      50                        579  \n",
       "10    619                       2076  \n",
       "11    772                        577  \n",
       "12    825                       5558  \n",
       "13   1248                       9315  \n",
       "14   1017                      21646  \n",
       "15   1493                       5935  \n",
       "16    180                        699  \n",
       "17  15203                       8202  \n",
       "18   1865                      20423  \n",
       "19    946                       4108  \n",
       "20     78                        886  \n",
       "21    601                       3659  \n",
       "22    409                       1606  \n",
       "23    597                        679  \n",
       "24    824                       1942  \n",
       "25    236                        918  \n",
       "26    561                        691  \n",
       "27   8251                      11169  \n",
       "28     20                       5286  \n",
       "29   1468                       4937  \n",
       "30   8899                       1627  \n",
       "31    822                       5071  \n",
       "32     75                       2709  "
      ]
     },
     "execution_count": 36,
     "metadata": {},
     "output_type": "execute_result"
    }
   ],
   "source": [
    "cioc"
   ]
  },
  {
   "cell_type": "code",
   "execution_count": 37,
   "metadata": {
    "collapsed": false
   },
   "outputs": [],
   "source": [
    "content = cioc[['Department', 'Blogs', 'Discussions', 'Pages', 'Wires',\n",
    "         'Bookmarks', 'Ideas']]\n",
    "\n",
    "files = cioc[['Department', 'Images', 'Files']]"
   ]
  },
  {
   "cell_type": "code",
   "execution_count": 38,
   "metadata": {
    "collapsed": false
   },
   "outputs": [
    {
     "data": {
      "text/html": [
       "<div>\n",
       "<table border=\"1\" class=\"dataframe\">\n",
       "  <thead>\n",
       "    <tr style=\"text-align: right;\">\n",
       "      <th></th>\n",
       "      <th>Department</th>\n",
       "      <th>Blogs</th>\n",
       "      <th>Discussions</th>\n",
       "      <th>Pages</th>\n",
       "      <th>Wires</th>\n",
       "      <th>Bookmarks</th>\n",
       "      <th>Ideas</th>\n",
       "    </tr>\n",
       "  </thead>\n",
       "  <tbody>\n",
       "    <tr>\n",
       "      <th>0</th>\n",
       "      <td>AAFC/AAC</td>\n",
       "      <td>36</td>\n",
       "      <td>102</td>\n",
       "      <td>1</td>\n",
       "      <td>10</td>\n",
       "      <td>82</td>\n",
       "      <td>11</td>\n",
       "    </tr>\n",
       "    <tr>\n",
       "      <th>1</th>\n",
       "      <td>AANDC/AANDC</td>\n",
       "      <td>698</td>\n",
       "      <td>445</td>\n",
       "      <td>17</td>\n",
       "      <td>300</td>\n",
       "      <td>425</td>\n",
       "      <td>49</td>\n",
       "    </tr>\n",
       "    <tr>\n",
       "      <th>2</th>\n",
       "      <td>ACOA/APECA</td>\n",
       "      <td>19</td>\n",
       "      <td>40</td>\n",
       "      <td>0</td>\n",
       "      <td>36</td>\n",
       "      <td>27</td>\n",
       "      <td>4</td>\n",
       "    </tr>\n",
       "    <tr>\n",
       "      <th>3</th>\n",
       "      <td>CANADA</td>\n",
       "      <td>1547</td>\n",
       "      <td>2692</td>\n",
       "      <td>137</td>\n",
       "      <td>2873</td>\n",
       "      <td>1821</td>\n",
       "      <td>269</td>\n",
       "    </tr>\n",
       "    <tr>\n",
       "      <th>4</th>\n",
       "      <td>CBSA/ASFC</td>\n",
       "      <td>27</td>\n",
       "      <td>144</td>\n",
       "      <td>13</td>\n",
       "      <td>169</td>\n",
       "      <td>198</td>\n",
       "      <td>42</td>\n",
       "    </tr>\n",
       "  </tbody>\n",
       "</table>\n",
       "</div>"
      ],
      "text/plain": [
       "    Department  Blogs  Discussions  Pages  Wires  Bookmarks  Ideas\n",
       "0     AAFC/AAC     36          102      1     10         82     11\n",
       "1  AANDC/AANDC    698          445     17    300        425     49\n",
       "2   ACOA/APECA     19           40      0     36         27      4\n",
       "3       CANADA   1547         2692    137   2873       1821    269\n",
       "4    CBSA/ASFC     27          144     13    169        198     42"
      ]
     },
     "execution_count": 38,
     "metadata": {},
     "output_type": "execute_result"
    }
   ],
   "source": [
    "content.head()"
   ]
  },
  {
   "cell_type": "code",
   "execution_count": 39,
   "metadata": {
    "collapsed": false
   },
   "outputs": [],
   "source": [
    "# Export to CSV\n",
    "\n",
    "df.to_csv(os.path.join(output_path, 'dept_stats_{}.csv'.format(\n",
    "            dt.date.today())))"
   ]
  },
  {
   "cell_type": "markdown",
   "metadata": {
    "collapsed": false
   },
   "source": [
    "## Graphing the data"
   ]
  },
  {
   "cell_type": "code",
   "execution_count": null,
   "metadata": {
    "collapsed": true
   },
   "outputs": [],
   "source": [
    "import matplotlib.pyplot as plt\n",
    "import seaborn as sns\n",
    "sns.set_style('whitegrid')\n",
    "\n",
    "\n",
    "import matplotlib\n",
    "matplotlib.style.use('ggplot')\n",
    "\n",
    "%matplotlib inline"
   ]
  },
  {
   "cell_type": "code",
   "execution_count": null,
   "metadata": {
    "collapsed": false
   },
   "outputs": [],
   "source": [
    "# Basic Seaborn Chart Test\n",
    "\n",
    "sns.set_context('poster')\n",
    "\n",
    "sns_plot = sns.barplot(palette='muted', units=\"Content\",\n",
    "    data=content.loc[df.Department == 'CANADA'])\n"
   ]
  },
  {
   "cell_type": "code",
   "execution_count": null,
   "metadata": {
    "collapsed": false
   },
   "outputs": [],
   "source": [
    "sns_plot.set_title('CANADA')\n",
    "\n",
    "fig = sns_plot.get_figure()\n",
    "\n",
    "fig.savefig(os.path.join(output_path, 'Canada2.png'))"
   ]
  },
  {
   "cell_type": "code",
   "execution_count": null,
   "metadata": {
    "collapsed": false
   },
   "outputs": [],
   "source": [
    "content.sort_values(by='Blogs', ascending=False).head()"
   ]
  },
  {
   "cell_type": "code",
   "execution_count": null,
   "metadata": {
    "collapsed": false
   },
   "outputs": [],
   "source": [
    "# Print all departmental graphs for content\n",
    "\n",
    "sns.set_context('poster')\n",
    "\n",
    "dept_list = [dept for dept in content.Department]\n",
    "\n",
    "for dept in content.Department:\n",
    "    \n",
    "    sns_plot = sns.barplot(palette='muted',\n",
    "    data=content.loc[content.Department == dept])\n",
    "    \n",
    "    sns_plot.set_title(dept)\n",
    "\n",
    "    fig = sns_plot.get_figure()\n",
    "    \n",
    "    dept_title = dept.split('/')[0]\n",
    "\n",
    "    fig.savefig(os.path.join(output_path, 'department_graphs',\n",
    "                             '{}_content_2016.png'.format(dept_title)))\n",
    "    \n",
    "    plt.close()"
   ]
  },
  {
   "cell_type": "code",
   "execution_count": null,
   "metadata": {
    "collapsed": false
   },
   "outputs": [],
   "source": [
    "# Print all departmental graphs for files\n",
    "\n",
    "sns.set_context('poster')\n",
    "\n",
    "dept_list = [dept for dept in files.Department]\n",
    "\n",
    "for dept in files.Department:\n",
    "    \n",
    "    sns_plot = sns.barplot(palette='muted',\n",
    "    data=files.loc[files.Department == dept])\n",
    "    \n",
    "    sns_plot.set_title(dept)\n",
    "\n",
    "    fig = sns_plot.get_figure()\n",
    "    \n",
    "    dept_title = dept.split('/')[0]\n",
    "\n",
    "    fig.savefig(os.path.join(output_path, 'department_graphs',\n",
    "                             '{}_files_2016.png'.format(dept_title)))\n",
    "    \n",
    "    plt.close()"
   ]
  },
  {
   "cell_type": "code",
   "execution_count": null,
   "metadata": {
    "collapsed": true
   },
   "outputs": [],
   "source": [
    "content.to_csv(os.path.join(output_path, 'gcconnex_fte_stats-{}.csv'.format(\n",
    "        dt.date.today())))\n",
    "\n",
    "files.to_csv(os.path.join(output_path, 'gcconnex_user_stats-{}.csv'.format(\n",
    "        dt.date.today())))"
   ]
  },
  {
   "cell_type": "markdown",
   "metadata": {},
   "source": [
    "## Pull and synthesize user stats"
   ]
  },
  {
   "cell_type": "code",
   "execution_count": 40,
   "metadata": {
    "collapsed": false
   },
   "outputs": [],
   "source": [
    "# Select Users with Avatar & About Me completed\n",
    "# name_id: 55 = About_me.description, name_id: 73 = Icontime Avatar\n",
    "\n",
    "user_profile = []\n",
    "\n",
    "for md, e in session.query(MetaData, Entities).filter(\n",
    "    (Entities.guid == MetaData.entity_guid) &\n",
    "    ((MetaData.name_id == 55) | (MetaData.name_id == 73))):\n",
    "    user_profile.append((e.guid, md.name_id))"
   ]
  },
  {
   "cell_type": "code",
   "execution_count": 41,
   "metadata": {
    "collapsed": false
   },
   "outputs": [
    {
     "data": {
      "text/plain": [
       "[(22, 55), (363, 55), (224, 55), (460, 55), (70, 55)]"
      ]
     },
     "execution_count": 41,
     "metadata": {},
     "output_type": "execute_result"
    }
   ],
   "source": [
    "user_profile[:5]"
   ]
  },
  {
   "cell_type": "code",
   "execution_count": null,
   "metadata": {
    "collapsed": true
   },
   "outputs": [],
   "source": [
    "    "
   ]
  },
  {
   "cell_type": "code",
   "execution_count": 42,
   "metadata": {
    "collapsed": true
   },
   "outputs": [],
   "source": [
    "user_profile_df = pd.DataFrame(user_profile, columns='User md_name'.split())"
   ]
  },
  {
   "cell_type": "code",
   "execution_count": null,
   "metadata": {
    "collapsed": false
   },
   "outputs": [],
   "source": []
  },
  {
   "cell_type": "code",
   "execution_count": 43,
   "metadata": {
    "collapsed": false
   },
   "outputs": [],
   "source": [
    "def return_avatar(row):\n",
    "    if row['md_name'] == 73:\n",
    "        return 1\n",
    "    else:\n",
    "        return 0\n",
    "\n",
    "def return_aboutme(row):\n",
    "    if row['md_name'] == 55:\n",
    "        return 1\n",
    "    else:\n",
    "        return 0"
   ]
  },
  {
   "cell_type": "code",
   "execution_count": 44,
   "metadata": {
    "collapsed": false
   },
   "outputs": [],
   "source": [
    "user_profile_df['Avatar'] = user_profile_df.apply(\n",
    "    lambda row: return_avatar (row), axis=1)\n",
    "\n",
    "user_profile_df['Profile'] = user_profile_df.apply(\n",
    "    lambda row: return_aboutme (row), axis=1)"
   ]
  },
  {
   "cell_type": "code",
   "execution_count": 45,
   "metadata": {
    "collapsed": false
   },
   "outputs": [],
   "source": [
    "user_profile_df = user_profile_df.drop('md_name', axis=1)"
   ]
  },
  {
   "cell_type": "code",
   "execution_count": null,
   "metadata": {
    "collapsed": false
   },
   "outputs": [],
   "source": []
  },
  {
   "cell_type": "code",
   "execution_count": 46,
   "metadata": {
    "collapsed": false
   },
   "outputs": [],
   "source": [
    "grouped_up = user_profile_df.groupby(['User'], sort=False).sum()\n"
   ]
  },
  {
   "cell_type": "code",
   "execution_count": 47,
   "metadata": {
    "collapsed": false
   },
   "outputs": [],
   "source": [
    "grouped_up.reset_index(drop=False, inplace=True)"
   ]
  },
  {
   "cell_type": "code",
   "execution_count": 48,
   "metadata": {
    "collapsed": false
   },
   "outputs": [
    {
     "data": {
      "text/html": [
       "<div>\n",
       "<table border=\"1\" class=\"dataframe\">\n",
       "  <thead>\n",
       "    <tr style=\"text-align: right;\">\n",
       "      <th></th>\n",
       "      <th>User</th>\n",
       "      <th>Avatar</th>\n",
       "      <th>Profile</th>\n",
       "    </tr>\n",
       "  </thead>\n",
       "  <tbody>\n",
       "    <tr>\n",
       "      <th>0</th>\n",
       "      <td>22</td>\n",
       "      <td>1</td>\n",
       "      <td>1</td>\n",
       "    </tr>\n",
       "    <tr>\n",
       "      <th>1</th>\n",
       "      <td>363</td>\n",
       "      <td>0</td>\n",
       "      <td>1</td>\n",
       "    </tr>\n",
       "    <tr>\n",
       "      <th>2</th>\n",
       "      <td>224</td>\n",
       "      <td>1</td>\n",
       "      <td>1</td>\n",
       "    </tr>\n",
       "    <tr>\n",
       "      <th>3</th>\n",
       "      <td>460</td>\n",
       "      <td>1</td>\n",
       "      <td>1</td>\n",
       "    </tr>\n",
       "    <tr>\n",
       "      <th>4</th>\n",
       "      <td>70</td>\n",
       "      <td>1</td>\n",
       "      <td>1</td>\n",
       "    </tr>\n",
       "  </tbody>\n",
       "</table>\n",
       "</div>"
      ],
      "text/plain": [
       "   User  Avatar  Profile\n",
       "0    22       1        1\n",
       "1   363       0        1\n",
       "2   224       1        1\n",
       "3   460       1        1\n",
       "4    70       1        1"
      ]
     },
     "execution_count": 48,
     "metadata": {},
     "output_type": "execute_result"
    }
   ],
   "source": [
    "grouped_up.head()"
   ]
  },
  {
   "cell_type": "code",
   "execution_count": null,
   "metadata": {
    "collapsed": true
   },
   "outputs": [],
   "source": []
  },
  {
   "cell_type": "code",
   "execution_count": 49,
   "metadata": {
    "collapsed": false
   },
   "outputs": [
    {
     "data": {
      "text/html": [
       "<div>\n",
       "<table border=\"1\" class=\"dataframe\">\n",
       "  <thead>\n",
       "    <tr style=\"text-align: right;\">\n",
       "      <th></th>\n",
       "      <th>User</th>\n",
       "      <th>Avatar</th>\n",
       "      <th>Profile</th>\n",
       "    </tr>\n",
       "  </thead>\n",
       "  <tbody>\n",
       "    <tr>\n",
       "      <th>count</th>\n",
       "      <td>2.707500e+04</td>\n",
       "      <td>27075.000000</td>\n",
       "      <td>27075.000000</td>\n",
       "    </tr>\n",
       "    <tr>\n",
       "      <th>mean</th>\n",
       "      <td>6.101112e+06</td>\n",
       "      <td>0.895549</td>\n",
       "      <td>0.306482</td>\n",
       "    </tr>\n",
       "    <tr>\n",
       "      <th>std</th>\n",
       "      <td>5.699800e+06</td>\n",
       "      <td>0.309093</td>\n",
       "      <td>0.461521</td>\n",
       "    </tr>\n",
       "    <tr>\n",
       "      <th>min</th>\n",
       "      <td>4.000000e+00</td>\n",
       "      <td>0.000000</td>\n",
       "      <td>0.000000</td>\n",
       "    </tr>\n",
       "    <tr>\n",
       "      <th>25%</th>\n",
       "      <td>6.741890e+05</td>\n",
       "      <td>1.000000</td>\n",
       "      <td>0.000000</td>\n",
       "    </tr>\n",
       "    <tr>\n",
       "      <th>50%</th>\n",
       "      <td>4.756875e+06</td>\n",
       "      <td>1.000000</td>\n",
       "      <td>0.000000</td>\n",
       "    </tr>\n",
       "    <tr>\n",
       "      <th>75%</th>\n",
       "      <td>1.028765e+07</td>\n",
       "      <td>1.000000</td>\n",
       "      <td>1.000000</td>\n",
       "    </tr>\n",
       "    <tr>\n",
       "      <th>max</th>\n",
       "      <td>2.000919e+07</td>\n",
       "      <td>5.000000</td>\n",
       "      <td>3.000000</td>\n",
       "    </tr>\n",
       "  </tbody>\n",
       "</table>\n",
       "</div>"
      ],
      "text/plain": [
       "               User        Avatar       Profile\n",
       "count  2.707500e+04  27075.000000  27075.000000\n",
       "mean   6.101112e+06      0.895549      0.306482\n",
       "std    5.699800e+06      0.309093      0.461521\n",
       "min    4.000000e+00      0.000000      0.000000\n",
       "25%    6.741890e+05      1.000000      0.000000\n",
       "50%    4.756875e+06      1.000000      0.000000\n",
       "75%    1.028765e+07      1.000000      1.000000\n",
       "max    2.000919e+07      5.000000      3.000000"
      ]
     },
     "execution_count": 49,
     "metadata": {},
     "output_type": "execute_result"
    }
   ],
   "source": [
    "grouped_up.describe()"
   ]
  },
  {
   "cell_type": "code",
   "execution_count": null,
   "metadata": {
    "collapsed": true
   },
   "outputs": [],
   "source": []
  },
  {
   "cell_type": "code",
   "execution_count": null,
   "metadata": {
    "collapsed": true
   },
   "outputs": [],
   "source": []
  },
  {
   "cell_type": "markdown",
   "metadata": {},
   "source": [
    "## Pull User Profile Information"
   ]
  },
  {
   "cell_type": "code",
   "execution_count": 50,
   "metadata": {
    "collapsed": false
   },
   "outputs": [],
   "source": [
    "users = []\n",
    "\n",
    "for e, u in session.query(Entities, Users).filter(\n",
    "    Entities.guid == Users.guid):\n",
    "    users.append((e.guid, anonymize(bytes(u.name, 'utf-8')),\n",
    "                 find_dept(u.email), \n",
    "                 convert_unixtime(e.time_created),\n",
    "                  convert_unixtime(u.last_login),\n",
    "                ))"
   ]
  },
  {
   "cell_type": "code",
   "execution_count": 51,
   "metadata": {
    "collapsed": false
   },
   "outputs": [
    {
     "data": {
      "text/plain": [
       "[(4,\n",
       "  '3e0e56955b8cbcb43249586734c5a4907583dc20',\n",
       "  'PWGSC/TPSGC',\n",
       "  '2008-12-15',\n",
       "  '2009-08-24'),\n",
       " (6,\n",
       "  '70b008bd52be7669219df4f5873c45ff2b1cc0bd',\n",
       "  'TBS/SCT',\n",
       "  '2008-12-15',\n",
       "  '2016-03-31'),\n",
       " (7,\n",
       "  '34170d76f2c742e893f9605d1f2b56406133298c',\n",
       "  'HC/SC',\n",
       "  '2008-12-15',\n",
       "  '2016-03-23'),\n",
       " (19,\n",
       "  '937c44d75a8456b059396abcd4e099b3f7305502',\n",
       "  'CANADA',\n",
       "  '2008-12-15',\n",
       "  '2016-03-30'),\n",
       " (22,\n",
       "  'e072bb2d1c11173d280b37468a53d4b27dc51b27',\n",
       "  'DFAITD/MAECD',\n",
       "  '2008-12-15',\n",
       "  '2016-03-22'),\n",
       " (23,\n",
       "  'd66eaf66a450d22671558600b4114fecf7cabf47',\n",
       "  'JUSTICE',\n",
       "  '2008-12-16',\n",
       "  '2016-03-21'),\n",
       " (42,\n",
       "  '5bbe663a53e9fb6f651faf667bcce200c01fbf08',\n",
       "  'CFIA/ACIA',\n",
       "  '2008-12-16',\n",
       "  '2016-03-22'),\n",
       " (58,\n",
       "  '6ac85f3a23d410fc7d1eeca5a64c33f71d0f1591',\n",
       "  'HC/SC',\n",
       "  '2008-12-17',\n",
       "  '2015-04-29'),\n",
       " (59,\n",
       "  '36f897a80f20c2d7cd495ff40da8f19e98593f98',\n",
       "  'TBS/SCT',\n",
       "  '2008-12-17',\n",
       "  '2016-03-31'),\n",
       " (70,\n",
       "  'f6b391d5fde5df2e5e0ca42706532710dade601a',\n",
       "  'TBS/SCT',\n",
       "  '2008-12-17',\n",
       "  '2010-04-14')]"
      ]
     },
     "execution_count": 51,
     "metadata": {},
     "output_type": "execute_result"
    }
   ],
   "source": [
    "users[:10]"
   ]
  },
  {
   "cell_type": "code",
   "execution_count": 52,
   "metadata": {
    "collapsed": false
   },
   "outputs": [],
   "source": [
    "user_df = pd.DataFrame(\n",
    "    users, columns='User Name Department Created Last_login'.split())"
   ]
  },
  {
   "cell_type": "code",
   "execution_count": 53,
   "metadata": {
    "collapsed": false
   },
   "outputs": [
    {
     "data": {
      "text/html": [
       "<div>\n",
       "<table border=\"1\" class=\"dataframe\">\n",
       "  <thead>\n",
       "    <tr style=\"text-align: right;\">\n",
       "      <th></th>\n",
       "      <th>User</th>\n",
       "      <th>Name</th>\n",
       "      <th>Department</th>\n",
       "      <th>Created</th>\n",
       "      <th>Last_login</th>\n",
       "    </tr>\n",
       "  </thead>\n",
       "  <tbody>\n",
       "    <tr>\n",
       "      <th>0</th>\n",
       "      <td>4</td>\n",
       "      <td>3e0e56955b8cbcb43249586734c5a4907583dc20</td>\n",
       "      <td>PWGSC/TPSGC</td>\n",
       "      <td>2008-12-15</td>\n",
       "      <td>2009-08-24</td>\n",
       "    </tr>\n",
       "    <tr>\n",
       "      <th>1</th>\n",
       "      <td>6</td>\n",
       "      <td>70b008bd52be7669219df4f5873c45ff2b1cc0bd</td>\n",
       "      <td>TBS/SCT</td>\n",
       "      <td>2008-12-15</td>\n",
       "      <td>2016-03-31</td>\n",
       "    </tr>\n",
       "    <tr>\n",
       "      <th>2</th>\n",
       "      <td>7</td>\n",
       "      <td>34170d76f2c742e893f9605d1f2b56406133298c</td>\n",
       "      <td>HC/SC</td>\n",
       "      <td>2008-12-15</td>\n",
       "      <td>2016-03-23</td>\n",
       "    </tr>\n",
       "    <tr>\n",
       "      <th>3</th>\n",
       "      <td>19</td>\n",
       "      <td>937c44d75a8456b059396abcd4e099b3f7305502</td>\n",
       "      <td>CANADA</td>\n",
       "      <td>2008-12-15</td>\n",
       "      <td>2016-03-30</td>\n",
       "    </tr>\n",
       "    <tr>\n",
       "      <th>4</th>\n",
       "      <td>22</td>\n",
       "      <td>e072bb2d1c11173d280b37468a53d4b27dc51b27</td>\n",
       "      <td>DFAITD/MAECD</td>\n",
       "      <td>2008-12-15</td>\n",
       "      <td>2016-03-22</td>\n",
       "    </tr>\n",
       "  </tbody>\n",
       "</table>\n",
       "</div>"
      ],
      "text/plain": [
       "   User                                      Name    Department     Created  \\\n",
       "0     4  3e0e56955b8cbcb43249586734c5a4907583dc20   PWGSC/TPSGC  2008-12-15   \n",
       "1     6  70b008bd52be7669219df4f5873c45ff2b1cc0bd       TBS/SCT  2008-12-15   \n",
       "2     7  34170d76f2c742e893f9605d1f2b56406133298c         HC/SC  2008-12-15   \n",
       "3    19  937c44d75a8456b059396abcd4e099b3f7305502        CANADA  2008-12-15   \n",
       "4    22  e072bb2d1c11173d280b37468a53d4b27dc51b27  DFAITD/MAECD  2008-12-15   \n",
       "\n",
       "   Last_login  \n",
       "0  2009-08-24  \n",
       "1  2016-03-31  \n",
       "2  2016-03-23  \n",
       "3  2016-03-30  \n",
       "4  2016-03-22  "
      ]
     },
     "execution_count": 53,
     "metadata": {},
     "output_type": "execute_result"
    }
   ],
   "source": [
    "user_df.head()"
   ]
  },
  {
   "cell_type": "code",
   "execution_count": null,
   "metadata": {
    "collapsed": false
   },
   "outputs": [],
   "source": []
  },
  {
   "cell_type": "code",
   "execution_count": null,
   "metadata": {
    "collapsed": false
   },
   "outputs": [],
   "source": []
  },
  {
   "cell_type": "code",
   "execution_count": 54,
   "metadata": {
    "collapsed": false
   },
   "outputs": [],
   "source": [
    "# Combine user_profiles and users into single dataframe\n",
    "\n",
    "combined_user_df = pd.merge(grouped_up, user_df, how='right', on='User')"
   ]
  },
  {
   "cell_type": "code",
   "execution_count": 55,
   "metadata": {
    "collapsed": false
   },
   "outputs": [
    {
     "name": "stderr",
     "output_type": "stream",
     "text": [
      "C:\\Anaconda3\\lib\\site-packages\\numpy\\lib\\function_base.py:3834: RuntimeWarning: Invalid value encountered in percentile\n",
      "  RuntimeWarning)\n"
     ]
    },
    {
     "data": {
      "text/html": [
       "<div>\n",
       "<table border=\"1\" class=\"dataframe\">\n",
       "  <thead>\n",
       "    <tr style=\"text-align: right;\">\n",
       "      <th></th>\n",
       "      <th>User</th>\n",
       "      <th>Avatar</th>\n",
       "      <th>Profile</th>\n",
       "    </tr>\n",
       "  </thead>\n",
       "  <tbody>\n",
       "    <tr>\n",
       "      <th>count</th>\n",
       "      <td>8.281200e+04</td>\n",
       "      <td>17707.000000</td>\n",
       "      <td>17707.000000</td>\n",
       "    </tr>\n",
       "    <tr>\n",
       "      <th>mean</th>\n",
       "      <td>7.136483e+06</td>\n",
       "      <td>0.839386</td>\n",
       "      <td>0.468628</td>\n",
       "    </tr>\n",
       "    <tr>\n",
       "      <th>std</th>\n",
       "      <td>5.906959e+06</td>\n",
       "      <td>0.367339</td>\n",
       "      <td>0.499708</td>\n",
       "    </tr>\n",
       "    <tr>\n",
       "      <th>min</th>\n",
       "      <td>4.000000e+00</td>\n",
       "      <td>0.000000</td>\n",
       "      <td>0.000000</td>\n",
       "    </tr>\n",
       "    <tr>\n",
       "      <th>25%</th>\n",
       "      <td>1.860364e+06</td>\n",
       "      <td>NaN</td>\n",
       "      <td>NaN</td>\n",
       "    </tr>\n",
       "    <tr>\n",
       "      <th>50%</th>\n",
       "      <td>5.423758e+06</td>\n",
       "      <td>NaN</td>\n",
       "      <td>NaN</td>\n",
       "    </tr>\n",
       "    <tr>\n",
       "      <th>75%</th>\n",
       "      <td>1.211542e+07</td>\n",
       "      <td>NaN</td>\n",
       "      <td>NaN</td>\n",
       "    </tr>\n",
       "    <tr>\n",
       "      <th>max</th>\n",
       "      <td>2.000952e+07</td>\n",
       "      <td>2.000000</td>\n",
       "      <td>3.000000</td>\n",
       "    </tr>\n",
       "  </tbody>\n",
       "</table>\n",
       "</div>"
      ],
      "text/plain": [
       "               User        Avatar       Profile\n",
       "count  8.281200e+04  17707.000000  17707.000000\n",
       "mean   7.136483e+06      0.839386      0.468628\n",
       "std    5.906959e+06      0.367339      0.499708\n",
       "min    4.000000e+00      0.000000      0.000000\n",
       "25%    1.860364e+06           NaN           NaN\n",
       "50%    5.423758e+06           NaN           NaN\n",
       "75%    1.211542e+07           NaN           NaN\n",
       "max    2.000952e+07      2.000000      3.000000"
      ]
     },
     "execution_count": 55,
     "metadata": {},
     "output_type": "execute_result"
    }
   ],
   "source": [
    "combined_user_df.describe()"
   ]
  },
  {
   "cell_type": "code",
   "execution_count": 56,
   "metadata": {
    "collapsed": false
   },
   "outputs": [
    {
     "data": {
      "text/html": [
       "<div>\n",
       "<table border=\"1\" class=\"dataframe\">\n",
       "  <thead>\n",
       "    <tr style=\"text-align: right;\">\n",
       "      <th></th>\n",
       "      <th>User</th>\n",
       "      <th>Avatar</th>\n",
       "      <th>Profile</th>\n",
       "      <th>Name</th>\n",
       "      <th>Department</th>\n",
       "      <th>Created</th>\n",
       "      <th>Last_login</th>\n",
       "    </tr>\n",
       "  </thead>\n",
       "  <tbody>\n",
       "    <tr>\n",
       "      <th>0</th>\n",
       "      <td>22.0</td>\n",
       "      <td>1.0</td>\n",
       "      <td>1.0</td>\n",
       "      <td>e072bb2d1c11173d280b37468a53d4b27dc51b27</td>\n",
       "      <td>DFAITD/MAECD</td>\n",
       "      <td>2008-12-15</td>\n",
       "      <td>2016-03-22</td>\n",
       "    </tr>\n",
       "    <tr>\n",
       "      <th>1</th>\n",
       "      <td>363.0</td>\n",
       "      <td>0.0</td>\n",
       "      <td>1.0</td>\n",
       "      <td>fac8e8e0795b78333ea4b1fb281f9f423bb04ee3</td>\n",
       "      <td>HRSDC/RHDSC</td>\n",
       "      <td>2009-01-15</td>\n",
       "      <td>1969-12-31</td>\n",
       "    </tr>\n",
       "    <tr>\n",
       "      <th>2</th>\n",
       "      <td>224.0</td>\n",
       "      <td>1.0</td>\n",
       "      <td>1.0</td>\n",
       "      <td>c11ac3706c267db26c79fb01e6b708b40e1e263c</td>\n",
       "      <td>CEAA/ACEE</td>\n",
       "      <td>2009-01-08</td>\n",
       "      <td>2010-02-08</td>\n",
       "    </tr>\n",
       "    <tr>\n",
       "      <th>3</th>\n",
       "      <td>460.0</td>\n",
       "      <td>1.0</td>\n",
       "      <td>1.0</td>\n",
       "      <td>4a490a5e1a430d2c110281a96330534ed10dac3e</td>\n",
       "      <td>OTHER</td>\n",
       "      <td>2009-01-20</td>\n",
       "      <td>2009-05-28</td>\n",
       "    </tr>\n",
       "    <tr>\n",
       "      <th>4</th>\n",
       "      <td>70.0</td>\n",
       "      <td>1.0</td>\n",
       "      <td>1.0</td>\n",
       "      <td>f6b391d5fde5df2e5e0ca42706532710dade601a</td>\n",
       "      <td>TBS/SCT</td>\n",
       "      <td>2008-12-17</td>\n",
       "      <td>2010-04-14</td>\n",
       "    </tr>\n",
       "  </tbody>\n",
       "</table>\n",
       "</div>"
      ],
      "text/plain": [
       "    User  Avatar  Profile                                      Name  \\\n",
       "0   22.0     1.0      1.0  e072bb2d1c11173d280b37468a53d4b27dc51b27   \n",
       "1  363.0     0.0      1.0  fac8e8e0795b78333ea4b1fb281f9f423bb04ee3   \n",
       "2  224.0     1.0      1.0  c11ac3706c267db26c79fb01e6b708b40e1e263c   \n",
       "3  460.0     1.0      1.0  4a490a5e1a430d2c110281a96330534ed10dac3e   \n",
       "4   70.0     1.0      1.0  f6b391d5fde5df2e5e0ca42706532710dade601a   \n",
       "\n",
       "     Department     Created  Last_login  \n",
       "0  DFAITD/MAECD  2008-12-15  2016-03-22  \n",
       "1   HRSDC/RHDSC  2009-01-15  1969-12-31  \n",
       "2     CEAA/ACEE  2009-01-08  2010-02-08  \n",
       "3         OTHER  2009-01-20  2009-05-28  \n",
       "4       TBS/SCT  2008-12-17  2010-04-14  "
      ]
     },
     "execution_count": 56,
     "metadata": {},
     "output_type": "execute_result"
    }
   ],
   "source": [
    "combined_user_df.head()"
   ]
  },
  {
   "cell_type": "code",
   "execution_count": 57,
   "metadata": {
    "collapsed": false
   },
   "outputs": [],
   "source": [
    "# Add zero values for users without avatars and profiles\n",
    "\n",
    "combined_user_df['Avatar'].fillna(value=0, inplace=True)\n",
    "combined_user_df['Profile'].fillna(value=0, inplace=True)"
   ]
  },
  {
   "cell_type": "code",
   "execution_count": 58,
   "metadata": {
    "collapsed": false
   },
   "outputs": [
    {
     "data": {
      "text/html": [
       "<div>\n",
       "<table border=\"1\" class=\"dataframe\">\n",
       "  <thead>\n",
       "    <tr style=\"text-align: right;\">\n",
       "      <th></th>\n",
       "      <th>User</th>\n",
       "      <th>Avatar</th>\n",
       "      <th>Profile</th>\n",
       "    </tr>\n",
       "  </thead>\n",
       "  <tbody>\n",
       "    <tr>\n",
       "      <th>count</th>\n",
       "      <td>8.281200e+04</td>\n",
       "      <td>82812.000000</td>\n",
       "      <td>82812.000000</td>\n",
       "    </tr>\n",
       "    <tr>\n",
       "      <th>mean</th>\n",
       "      <td>7.136483e+06</td>\n",
       "      <td>0.179479</td>\n",
       "      <td>0.100203</td>\n",
       "    </tr>\n",
       "    <tr>\n",
       "      <th>std</th>\n",
       "      <td>5.906959e+06</td>\n",
       "      <td>0.383787</td>\n",
       "      <td>0.300513</td>\n",
       "    </tr>\n",
       "    <tr>\n",
       "      <th>min</th>\n",
       "      <td>4.000000e+00</td>\n",
       "      <td>0.000000</td>\n",
       "      <td>0.000000</td>\n",
       "    </tr>\n",
       "    <tr>\n",
       "      <th>25%</th>\n",
       "      <td>1.860364e+06</td>\n",
       "      <td>0.000000</td>\n",
       "      <td>0.000000</td>\n",
       "    </tr>\n",
       "    <tr>\n",
       "      <th>50%</th>\n",
       "      <td>5.423758e+06</td>\n",
       "      <td>0.000000</td>\n",
       "      <td>0.000000</td>\n",
       "    </tr>\n",
       "    <tr>\n",
       "      <th>75%</th>\n",
       "      <td>1.211542e+07</td>\n",
       "      <td>0.000000</td>\n",
       "      <td>0.000000</td>\n",
       "    </tr>\n",
       "    <tr>\n",
       "      <th>max</th>\n",
       "      <td>2.000952e+07</td>\n",
       "      <td>2.000000</td>\n",
       "      <td>3.000000</td>\n",
       "    </tr>\n",
       "  </tbody>\n",
       "</table>\n",
       "</div>"
      ],
      "text/plain": [
       "               User        Avatar       Profile\n",
       "count  8.281200e+04  82812.000000  82812.000000\n",
       "mean   7.136483e+06      0.179479      0.100203\n",
       "std    5.906959e+06      0.383787      0.300513\n",
       "min    4.000000e+00      0.000000      0.000000\n",
       "25%    1.860364e+06      0.000000      0.000000\n",
       "50%    5.423758e+06      0.000000      0.000000\n",
       "75%    1.211542e+07      0.000000      0.000000\n",
       "max    2.000952e+07      2.000000      3.000000"
      ]
     },
     "execution_count": 58,
     "metadata": {},
     "output_type": "execute_result"
    }
   ],
   "source": [
    "combined_user_df.describe()"
   ]
  },
  {
   "cell_type": "code",
   "execution_count": 59,
   "metadata": {
    "collapsed": false
   },
   "outputs": [],
   "source": [
    "# Generate values for users active in last 4 months\n",
    "\n",
    "combined_user_df['Active'] = np.where(combined_user_df.Last_login > '2015-12-01', 1, 0)"
   ]
  },
  {
   "cell_type": "code",
   "execution_count": 60,
   "metadata": {
    "collapsed": false
   },
   "outputs": [
    {
     "data": {
      "text/html": [
       "<div>\n",
       "<table border=\"1\" class=\"dataframe\">\n",
       "  <thead>\n",
       "    <tr style=\"text-align: right;\">\n",
       "      <th></th>\n",
       "      <th>User</th>\n",
       "      <th>Avatar</th>\n",
       "      <th>Profile</th>\n",
       "      <th>Name</th>\n",
       "      <th>Department</th>\n",
       "      <th>Created</th>\n",
       "      <th>Last_login</th>\n",
       "      <th>Active</th>\n",
       "    </tr>\n",
       "  </thead>\n",
       "  <tbody>\n",
       "    <tr>\n",
       "      <th>0</th>\n",
       "      <td>22.0</td>\n",
       "      <td>1.0</td>\n",
       "      <td>1.0</td>\n",
       "      <td>e072bb2d1c11173d280b37468a53d4b27dc51b27</td>\n",
       "      <td>DFAITD/MAECD</td>\n",
       "      <td>2008-12-15</td>\n",
       "      <td>2016-03-22</td>\n",
       "      <td>1</td>\n",
       "    </tr>\n",
       "    <tr>\n",
       "      <th>1</th>\n",
       "      <td>363.0</td>\n",
       "      <td>0.0</td>\n",
       "      <td>1.0</td>\n",
       "      <td>fac8e8e0795b78333ea4b1fb281f9f423bb04ee3</td>\n",
       "      <td>HRSDC/RHDSC</td>\n",
       "      <td>2009-01-15</td>\n",
       "      <td>1969-12-31</td>\n",
       "      <td>0</td>\n",
       "    </tr>\n",
       "    <tr>\n",
       "      <th>2</th>\n",
       "      <td>224.0</td>\n",
       "      <td>1.0</td>\n",
       "      <td>1.0</td>\n",
       "      <td>c11ac3706c267db26c79fb01e6b708b40e1e263c</td>\n",
       "      <td>CEAA/ACEE</td>\n",
       "      <td>2009-01-08</td>\n",
       "      <td>2010-02-08</td>\n",
       "      <td>0</td>\n",
       "    </tr>\n",
       "    <tr>\n",
       "      <th>3</th>\n",
       "      <td>460.0</td>\n",
       "      <td>1.0</td>\n",
       "      <td>1.0</td>\n",
       "      <td>4a490a5e1a430d2c110281a96330534ed10dac3e</td>\n",
       "      <td>OTHER</td>\n",
       "      <td>2009-01-20</td>\n",
       "      <td>2009-05-28</td>\n",
       "      <td>0</td>\n",
       "    </tr>\n",
       "    <tr>\n",
       "      <th>4</th>\n",
       "      <td>70.0</td>\n",
       "      <td>1.0</td>\n",
       "      <td>1.0</td>\n",
       "      <td>f6b391d5fde5df2e5e0ca42706532710dade601a</td>\n",
       "      <td>TBS/SCT</td>\n",
       "      <td>2008-12-17</td>\n",
       "      <td>2010-04-14</td>\n",
       "      <td>0</td>\n",
       "    </tr>\n",
       "  </tbody>\n",
       "</table>\n",
       "</div>"
      ],
      "text/plain": [
       "    User  Avatar  Profile                                      Name  \\\n",
       "0   22.0     1.0      1.0  e072bb2d1c11173d280b37468a53d4b27dc51b27   \n",
       "1  363.0     0.0      1.0  fac8e8e0795b78333ea4b1fb281f9f423bb04ee3   \n",
       "2  224.0     1.0      1.0  c11ac3706c267db26c79fb01e6b708b40e1e263c   \n",
       "3  460.0     1.0      1.0  4a490a5e1a430d2c110281a96330534ed10dac3e   \n",
       "4   70.0     1.0      1.0  f6b391d5fde5df2e5e0ca42706532710dade601a   \n",
       "\n",
       "     Department     Created  Last_login  Active  \n",
       "0  DFAITD/MAECD  2008-12-15  2016-03-22       1  \n",
       "1   HRSDC/RHDSC  2009-01-15  1969-12-31       0  \n",
       "2     CEAA/ACEE  2009-01-08  2010-02-08       0  \n",
       "3         OTHER  2009-01-20  2009-05-28       0  \n",
       "4       TBS/SCT  2008-12-17  2010-04-14       0  "
      ]
     },
     "execution_count": 60,
     "metadata": {},
     "output_type": "execute_result"
    }
   ],
   "source": [
    "combined_user_df.head()"
   ]
  },
  {
   "cell_type": "code",
   "execution_count": 61,
   "metadata": {
    "collapsed": true
   },
   "outputs": [],
   "source": [
    "mainframe = combined_user_df"
   ]
  },
  {
   "cell_type": "code",
   "execution_count": null,
   "metadata": {
    "collapsed": false
   },
   "outputs": [],
   "source": []
  },
  {
   "cell_type": "code",
   "execution_count": 62,
   "metadata": {
    "collapsed": false
   },
   "outputs": [],
   "source": [
    "# Pull User Colleague Information\n",
    "\n",
    "colleagues = []\n",
    "\n",
    "for r in session.query(Relationships).filter(\n",
    "    Relationships.relationship == 'friend'):\n",
    "        colleagues.append((\n",
    "            r.guid_one, r.guid_two, convert_unixtime(r.time_created)))"
   ]
  },
  {
   "cell_type": "code",
   "execution_count": null,
   "metadata": {
    "collapsed": true
   },
   "outputs": [],
   "source": []
  },
  {
   "cell_type": "code",
   "execution_count": 63,
   "metadata": {
    "collapsed": false
   },
   "outputs": [
    {
     "data": {
      "text/plain": [
       "[(6, 7, '1969-12-31'),\n",
       " (7, 6, '1969-12-31'),\n",
       " (23, 6, '1969-12-31'),\n",
       " (23, 19, '1969-12-31'),\n",
       " (23, 22, '1969-12-31'),\n",
       " (6, 23, '1969-12-31'),\n",
       " (6, 22, '1969-12-31'),\n",
       " (42, 19, '1969-12-31'),\n",
       " (42, 6, '1969-12-31'),\n",
       " (6, 42, '1969-12-31')]"
      ]
     },
     "execution_count": 63,
     "metadata": {},
     "output_type": "execute_result"
    }
   ],
   "source": [
    "colleagues[:10]"
   ]
  },
  {
   "cell_type": "code",
   "execution_count": 64,
   "metadata": {
    "collapsed": true
   },
   "outputs": [],
   "source": [
    "# Create DataFrame of Colleagues\n",
    "\n",
    "colleagues_df = pd.DataFrame(\n",
    "    colleagues, columns='User friend_guid time_created'.split())"
   ]
  },
  {
   "cell_type": "code",
   "execution_count": 65,
   "metadata": {
    "collapsed": false
   },
   "outputs": [],
   "source": [
    "# Count colleagues for each GUID\n",
    "\n",
    "colleague_count = colleagues_df.groupby('User').count()"
   ]
  },
  {
   "cell_type": "code",
   "execution_count": 66,
   "metadata": {
    "collapsed": false
   },
   "outputs": [],
   "source": [
    "colleague_count.reset_index(drop=False, inplace=True)"
   ]
  },
  {
   "cell_type": "code",
   "execution_count": 67,
   "metadata": {
    "collapsed": false
   },
   "outputs": [
    {
     "data": {
      "text/html": [
       "<div>\n",
       "<table border=\"1\" class=\"dataframe\">\n",
       "  <thead>\n",
       "    <tr style=\"text-align: right;\">\n",
       "      <th></th>\n",
       "      <th>User</th>\n",
       "      <th>friend_guid</th>\n",
       "    </tr>\n",
       "  </thead>\n",
       "  <tbody>\n",
       "    <tr>\n",
       "      <th>0</th>\n",
       "      <td>4</td>\n",
       "      <td>1</td>\n",
       "    </tr>\n",
       "    <tr>\n",
       "      <th>1</th>\n",
       "      <td>6</td>\n",
       "      <td>121</td>\n",
       "    </tr>\n",
       "    <tr>\n",
       "      <th>2</th>\n",
       "      <td>7</td>\n",
       "      <td>54</td>\n",
       "    </tr>\n",
       "    <tr>\n",
       "      <th>3</th>\n",
       "      <td>19</td>\n",
       "      <td>19</td>\n",
       "    </tr>\n",
       "    <tr>\n",
       "      <th>4</th>\n",
       "      <td>22</td>\n",
       "      <td>7</td>\n",
       "    </tr>\n",
       "  </tbody>\n",
       "</table>\n",
       "</div>"
      ],
      "text/plain": [
       "   User  friend_guid\n",
       "0     4            1\n",
       "1     6          121\n",
       "2     7           54\n",
       "3    19           19\n",
       "4    22            7"
      ]
     },
     "execution_count": 67,
     "metadata": {},
     "output_type": "execute_result"
    }
   ],
   "source": [
    "colleague_count.drop('time_created', axis=1, inplace=True)\n",
    "colleague_count.head()"
   ]
  },
  {
   "cell_type": "code",
   "execution_count": 68,
   "metadata": {
    "collapsed": false
   },
   "outputs": [],
   "source": [
    "# Rename columns\n",
    "\n",
    "colleague_count.columns = ['User', 'Colleagues']"
   ]
  },
  {
   "cell_type": "code",
   "execution_count": 69,
   "metadata": {
    "collapsed": false
   },
   "outputs": [
    {
     "data": {
      "text/html": [
       "<div>\n",
       "<table border=\"1\" class=\"dataframe\">\n",
       "  <thead>\n",
       "    <tr style=\"text-align: right;\">\n",
       "      <th></th>\n",
       "      <th>User</th>\n",
       "      <th>Colleagues</th>\n",
       "    </tr>\n",
       "  </thead>\n",
       "  <tbody>\n",
       "    <tr>\n",
       "      <th>0</th>\n",
       "      <td>4</td>\n",
       "      <td>1</td>\n",
       "    </tr>\n",
       "    <tr>\n",
       "      <th>1</th>\n",
       "      <td>6</td>\n",
       "      <td>121</td>\n",
       "    </tr>\n",
       "    <tr>\n",
       "      <th>2</th>\n",
       "      <td>7</td>\n",
       "      <td>54</td>\n",
       "    </tr>\n",
       "    <tr>\n",
       "      <th>3</th>\n",
       "      <td>19</td>\n",
       "      <td>19</td>\n",
       "    </tr>\n",
       "    <tr>\n",
       "      <th>4</th>\n",
       "      <td>22</td>\n",
       "      <td>7</td>\n",
       "    </tr>\n",
       "  </tbody>\n",
       "</table>\n",
       "</div>"
      ],
      "text/plain": [
       "   User  Colleagues\n",
       "0     4           1\n",
       "1     6         121\n",
       "2     7          54\n",
       "3    19          19\n",
       "4    22           7"
      ]
     },
     "execution_count": 69,
     "metadata": {},
     "output_type": "execute_result"
    }
   ],
   "source": [
    "colleague_count.head()"
   ]
  },
  {
   "cell_type": "code",
   "execution_count": 70,
   "metadata": {
    "collapsed": false
   },
   "outputs": [],
   "source": [
    "mainframe = pd.merge(mainframe, colleague_count, how='outer', on='User')"
   ]
  },
  {
   "cell_type": "code",
   "execution_count": 71,
   "metadata": {
    "collapsed": false
   },
   "outputs": [
    {
     "data": {
      "text/html": [
       "<div>\n",
       "<table border=\"1\" class=\"dataframe\">\n",
       "  <thead>\n",
       "    <tr style=\"text-align: right;\">\n",
       "      <th></th>\n",
       "      <th>User</th>\n",
       "      <th>Avatar</th>\n",
       "      <th>Profile</th>\n",
       "      <th>Active</th>\n",
       "      <th>Colleagues</th>\n",
       "    </tr>\n",
       "  </thead>\n",
       "  <tbody>\n",
       "    <tr>\n",
       "      <th>count</th>\n",
       "      <td>8.281300e+04</td>\n",
       "      <td>82813.000000</td>\n",
       "      <td>82813.000000</td>\n",
       "      <td>82813.000000</td>\n",
       "      <td>82813.000000</td>\n",
       "    </tr>\n",
       "    <tr>\n",
       "      <th>mean</th>\n",
       "      <td>7.136397e+06</td>\n",
       "      <td>0.179477</td>\n",
       "      <td>0.100202</td>\n",
       "      <td>0.316858</td>\n",
       "      <td>2.554997</td>\n",
       "    </tr>\n",
       "    <tr>\n",
       "      <th>std</th>\n",
       "      <td>5.906975e+06</td>\n",
       "      <td>0.383785</td>\n",
       "      <td>0.300512</td>\n",
       "      <td>0.465255</td>\n",
       "      <td>15.348346</td>\n",
       "    </tr>\n",
       "    <tr>\n",
       "      <th>min</th>\n",
       "      <td>4.000000e+00</td>\n",
       "      <td>0.000000</td>\n",
       "      <td>0.000000</td>\n",
       "      <td>0.000000</td>\n",
       "      <td>0.000000</td>\n",
       "    </tr>\n",
       "    <tr>\n",
       "      <th>25%</th>\n",
       "      <td>1.860357e+06</td>\n",
       "      <td>0.000000</td>\n",
       "      <td>0.000000</td>\n",
       "      <td>0.000000</td>\n",
       "      <td>0.000000</td>\n",
       "    </tr>\n",
       "    <tr>\n",
       "      <th>50%</th>\n",
       "      <td>5.423753e+06</td>\n",
       "      <td>0.000000</td>\n",
       "      <td>0.000000</td>\n",
       "      <td>0.000000</td>\n",
       "      <td>0.000000</td>\n",
       "    </tr>\n",
       "    <tr>\n",
       "      <th>75%</th>\n",
       "      <td>1.211542e+07</td>\n",
       "      <td>0.000000</td>\n",
       "      <td>0.000000</td>\n",
       "      <td>1.000000</td>\n",
       "      <td>1.000000</td>\n",
       "    </tr>\n",
       "    <tr>\n",
       "      <th>max</th>\n",
       "      <td>2.000952e+07</td>\n",
       "      <td>2.000000</td>\n",
       "      <td>3.000000</td>\n",
       "      <td>1.000000</td>\n",
       "      <td>3200.000000</td>\n",
       "    </tr>\n",
       "  </tbody>\n",
       "</table>\n",
       "</div>"
      ],
      "text/plain": [
       "               User        Avatar       Profile        Active    Colleagues\n",
       "count  8.281300e+04  82813.000000  82813.000000  82813.000000  82813.000000\n",
       "mean   7.136397e+06      0.179477      0.100202      0.316858      2.554997\n",
       "std    5.906975e+06      0.383785      0.300512      0.465255     15.348346\n",
       "min    4.000000e+00      0.000000      0.000000      0.000000      0.000000\n",
       "25%    1.860357e+06      0.000000      0.000000      0.000000      0.000000\n",
       "50%    5.423753e+06      0.000000      0.000000      0.000000      0.000000\n",
       "75%    1.211542e+07      0.000000      0.000000      1.000000      1.000000\n",
       "max    2.000952e+07      2.000000      3.000000      1.000000   3200.000000"
      ]
     },
     "execution_count": 71,
     "metadata": {},
     "output_type": "execute_result"
    }
   ],
   "source": [
    "# Clean Data\n",
    "\n",
    "mainframe.fillna(value=0, inplace=True)\n",
    "mainframe.drop_duplicates(inplace=True)\n",
    "mainframe.describe()"
   ]
  },
  {
   "cell_type": "code",
   "execution_count": 72,
   "metadata": {
    "collapsed": false
   },
   "outputs": [
    {
     "data": {
      "text/html": [
       "<div>\n",
       "<table border=\"1\" class=\"dataframe\">\n",
       "  <thead>\n",
       "    <tr style=\"text-align: right;\">\n",
       "      <th></th>\n",
       "      <th>User</th>\n",
       "      <th>Avatar</th>\n",
       "      <th>Profile</th>\n",
       "      <th>Name</th>\n",
       "      <th>Department</th>\n",
       "      <th>Created</th>\n",
       "      <th>Last_login</th>\n",
       "      <th>Active</th>\n",
       "      <th>Colleagues</th>\n",
       "    </tr>\n",
       "  </thead>\n",
       "  <tbody>\n",
       "    <tr>\n",
       "      <th>82808</th>\n",
       "      <td>20009207.0</td>\n",
       "      <td>0.0</td>\n",
       "      <td>0.0</td>\n",
       "      <td>1ea5f4d4491b8b5313ab2e9a1291664e524be1a3</td>\n",
       "      <td>HC/SC</td>\n",
       "      <td>2016-03-31</td>\n",
       "      <td>2016-03-31</td>\n",
       "      <td>1.0</td>\n",
       "      <td>0.0</td>\n",
       "    </tr>\n",
       "    <tr>\n",
       "      <th>82809</th>\n",
       "      <td>20009263.0</td>\n",
       "      <td>0.0</td>\n",
       "      <td>0.0</td>\n",
       "      <td>0f423ad3e50f26ec7e2649f888b6494a172deeb6</td>\n",
       "      <td>HRSDC/RHDSC</td>\n",
       "      <td>2016-03-31</td>\n",
       "      <td>1969-12-31</td>\n",
       "      <td>0.0</td>\n",
       "      <td>0.0</td>\n",
       "    </tr>\n",
       "    <tr>\n",
       "      <th>82810</th>\n",
       "      <td>20009285.0</td>\n",
       "      <td>0.0</td>\n",
       "      <td>0.0</td>\n",
       "      <td>81ba24649b63b7f146519e4357a0ef877207842b</td>\n",
       "      <td>AANDC/AANDC</td>\n",
       "      <td>2016-03-31</td>\n",
       "      <td>1969-12-31</td>\n",
       "      <td>0.0</td>\n",
       "      <td>0.0</td>\n",
       "    </tr>\n",
       "    <tr>\n",
       "      <th>82811</th>\n",
       "      <td>20009516.0</td>\n",
       "      <td>0.0</td>\n",
       "      <td>0.0</td>\n",
       "      <td>a18d547b1590fe77edc95c560cf322e2ab77d6c3</td>\n",
       "      <td>DFAITD/MAECD</td>\n",
       "      <td>2016-03-31</td>\n",
       "      <td>1969-12-31</td>\n",
       "      <td>0.0</td>\n",
       "      <td>0.0</td>\n",
       "    </tr>\n",
       "    <tr>\n",
       "      <th>82812</th>\n",
       "      <td>5921.0</td>\n",
       "      <td>0.0</td>\n",
       "      <td>0.0</td>\n",
       "      <td>0</td>\n",
       "      <td>0</td>\n",
       "      <td>0</td>\n",
       "      <td>0</td>\n",
       "      <td>0.0</td>\n",
       "      <td>3.0</td>\n",
       "    </tr>\n",
       "  </tbody>\n",
       "</table>\n",
       "</div>"
      ],
      "text/plain": [
       "             User  Avatar  Profile                                      Name  \\\n",
       "82808  20009207.0     0.0      0.0  1ea5f4d4491b8b5313ab2e9a1291664e524be1a3   \n",
       "82809  20009263.0     0.0      0.0  0f423ad3e50f26ec7e2649f888b6494a172deeb6   \n",
       "82810  20009285.0     0.0      0.0  81ba24649b63b7f146519e4357a0ef877207842b   \n",
       "82811  20009516.0     0.0      0.0  a18d547b1590fe77edc95c560cf322e2ab77d6c3   \n",
       "82812      5921.0     0.0      0.0                                         0   \n",
       "\n",
       "         Department     Created  Last_login  Active  Colleagues  \n",
       "82808         HC/SC  2016-03-31  2016-03-31     1.0         0.0  \n",
       "82809   HRSDC/RHDSC  2016-03-31  1969-12-31     0.0         0.0  \n",
       "82810   AANDC/AANDC  2016-03-31  1969-12-31     0.0         0.0  \n",
       "82811  DFAITD/MAECD  2016-03-31  1969-12-31     0.0         0.0  \n",
       "82812             0           0           0     0.0         3.0  "
      ]
     },
     "execution_count": 72,
     "metadata": {},
     "output_type": "execute_result"
    }
   ],
   "source": [
    "mainframe.tail()"
   ]
  },
  {
   "cell_type": "code",
   "execution_count": 73,
   "metadata": {
    "collapsed": false
   },
   "outputs": [],
   "source": [
    "skills = []\n",
    "\n",
    "for o, e in session.query(Objects, Entities).filter(\n",
    "    Objects.guid == Entities.guid,\n",
    "    Entities.subtype == 60):\n",
    "        skills.append((\n",
    "            e.owner_guid, o.title))"
   ]
  },
  {
   "cell_type": "code",
   "execution_count": null,
   "metadata": {
    "collapsed": false
   },
   "outputs": [],
   "source": []
  },
  {
   "cell_type": "code",
   "execution_count": 74,
   "metadata": {
    "collapsed": true
   },
   "outputs": [],
   "source": [
    "skills_df = pd.DataFrame(skills, columns=['User', 'Skills'])"
   ]
  },
  {
   "cell_type": "code",
   "execution_count": 75,
   "metadata": {
    "collapsed": false
   },
   "outputs": [
    {
     "data": {
      "text/html": [
       "<div>\n",
       "<table border=\"1\" class=\"dataframe\">\n",
       "  <thead>\n",
       "    <tr style=\"text-align: right;\">\n",
       "      <th></th>\n",
       "      <th>User</th>\n",
       "      <th>Skills</th>\n",
       "    </tr>\n",
       "  </thead>\n",
       "  <tbody>\n",
       "    <tr>\n",
       "      <th>0</th>\n",
       "      <td>3783615</td>\n",
       "      <td>Written French</td>\n",
       "    </tr>\n",
       "    <tr>\n",
       "      <th>1</th>\n",
       "      <td>3783615</td>\n",
       "      <td>Lawyer (civil law)</td>\n",
       "    </tr>\n",
       "    <tr>\n",
       "      <th>2</th>\n",
       "      <td>3783615</td>\n",
       "      <td>M.Tax (Sherbrooke)</td>\n",
       "    </tr>\n",
       "    <tr>\n",
       "      <th>3</th>\n",
       "      <td>3783615</td>\n",
       "      <td>Section 67 (M.Tax essay)</td>\n",
       "    </tr>\n",
       "    <tr>\n",
       "      <th>4</th>\n",
       "      <td>166151</td>\n",
       "      <td>Mental Health First Aid certification</td>\n",
       "    </tr>\n",
       "  </tbody>\n",
       "</table>\n",
       "</div>"
      ],
      "text/plain": [
       "      User                                 Skills\n",
       "0  3783615                         Written French\n",
       "1  3783615                     Lawyer (civil law)\n",
       "2  3783615                     M.Tax (Sherbrooke)\n",
       "3  3783615               Section 67 (M.Tax essay)\n",
       "4   166151  Mental Health First Aid certification"
      ]
     },
     "execution_count": 75,
     "metadata": {},
     "output_type": "execute_result"
    }
   ],
   "source": [
    "skills_df.head()"
   ]
  },
  {
   "cell_type": "code",
   "execution_count": 76,
   "metadata": {
    "collapsed": true
   },
   "outputs": [],
   "source": [
    "skills_count = skills_df.groupby('User').count()"
   ]
  },
  {
   "cell_type": "code",
   "execution_count": 77,
   "metadata": {
    "collapsed": false
   },
   "outputs": [],
   "source": [
    "skills_count.reset_index(drop=False, inplace=True)"
   ]
  },
  {
   "cell_type": "code",
   "execution_count": 78,
   "metadata": {
    "collapsed": false
   },
   "outputs": [
    {
     "data": {
      "text/html": [
       "<div>\n",
       "<table border=\"1\" class=\"dataframe\">\n",
       "  <thead>\n",
       "    <tr style=\"text-align: right;\">\n",
       "      <th></th>\n",
       "      <th>User</th>\n",
       "      <th>Skills</th>\n",
       "    </tr>\n",
       "  </thead>\n",
       "  <tbody>\n",
       "    <tr>\n",
       "      <th>0</th>\n",
       "      <td>23</td>\n",
       "      <td>9</td>\n",
       "    </tr>\n",
       "    <tr>\n",
       "      <th>1</th>\n",
       "      <td>75</td>\n",
       "      <td>5</td>\n",
       "    </tr>\n",
       "    <tr>\n",
       "      <th>2</th>\n",
       "      <td>151</td>\n",
       "      <td>10</td>\n",
       "    </tr>\n",
       "    <tr>\n",
       "      <th>3</th>\n",
       "      <td>304</td>\n",
       "      <td>13</td>\n",
       "    </tr>\n",
       "    <tr>\n",
       "      <th>4</th>\n",
       "      <td>1078</td>\n",
       "      <td>22</td>\n",
       "    </tr>\n",
       "  </tbody>\n",
       "</table>\n",
       "</div>"
      ],
      "text/plain": [
       "   User  Skills\n",
       "0    23       9\n",
       "1    75       5\n",
       "2   151      10\n",
       "3   304      13\n",
       "4  1078      22"
      ]
     },
     "execution_count": 78,
     "metadata": {},
     "output_type": "execute_result"
    }
   ],
   "source": [
    "skills_count.head()"
   ]
  },
  {
   "cell_type": "code",
   "execution_count": 79,
   "metadata": {
    "collapsed": true
   },
   "outputs": [],
   "source": [
    "mainframe = pd.merge(mainframe, skills_count, how='outer', on='User')"
   ]
  },
  {
   "cell_type": "code",
   "execution_count": 80,
   "metadata": {
    "collapsed": false
   },
   "outputs": [
    {
     "data": {
      "text/html": [
       "<div>\n",
       "<table border=\"1\" class=\"dataframe\">\n",
       "  <thead>\n",
       "    <tr style=\"text-align: right;\">\n",
       "      <th></th>\n",
       "      <th>User</th>\n",
       "      <th>Avatar</th>\n",
       "      <th>Profile</th>\n",
       "      <th>Name</th>\n",
       "      <th>Department</th>\n",
       "      <th>Created</th>\n",
       "      <th>Last_login</th>\n",
       "      <th>Active</th>\n",
       "      <th>Colleagues</th>\n",
       "      <th>Skills</th>\n",
       "    </tr>\n",
       "  </thead>\n",
       "  <tbody>\n",
       "    <tr>\n",
       "      <th>0</th>\n",
       "      <td>22.0</td>\n",
       "      <td>1.0</td>\n",
       "      <td>1.0</td>\n",
       "      <td>e072bb2d1c11173d280b37468a53d4b27dc51b27</td>\n",
       "      <td>DFAITD/MAECD</td>\n",
       "      <td>2008-12-15</td>\n",
       "      <td>2016-03-22</td>\n",
       "      <td>1.0</td>\n",
       "      <td>7.0</td>\n",
       "      <td>NaN</td>\n",
       "    </tr>\n",
       "    <tr>\n",
       "      <th>1</th>\n",
       "      <td>363.0</td>\n",
       "      <td>0.0</td>\n",
       "      <td>1.0</td>\n",
       "      <td>fac8e8e0795b78333ea4b1fb281f9f423bb04ee3</td>\n",
       "      <td>HRSDC/RHDSC</td>\n",
       "      <td>2009-01-15</td>\n",
       "      <td>1969-12-31</td>\n",
       "      <td>0.0</td>\n",
       "      <td>1.0</td>\n",
       "      <td>NaN</td>\n",
       "    </tr>\n",
       "    <tr>\n",
       "      <th>2</th>\n",
       "      <td>224.0</td>\n",
       "      <td>1.0</td>\n",
       "      <td>1.0</td>\n",
       "      <td>c11ac3706c267db26c79fb01e6b708b40e1e263c</td>\n",
       "      <td>CEAA/ACEE</td>\n",
       "      <td>2009-01-08</td>\n",
       "      <td>2010-02-08</td>\n",
       "      <td>0.0</td>\n",
       "      <td>21.0</td>\n",
       "      <td>NaN</td>\n",
       "    </tr>\n",
       "    <tr>\n",
       "      <th>3</th>\n",
       "      <td>460.0</td>\n",
       "      <td>1.0</td>\n",
       "      <td>1.0</td>\n",
       "      <td>4a490a5e1a430d2c110281a96330534ed10dac3e</td>\n",
       "      <td>OTHER</td>\n",
       "      <td>2009-01-20</td>\n",
       "      <td>2009-05-28</td>\n",
       "      <td>0.0</td>\n",
       "      <td>2.0</td>\n",
       "      <td>NaN</td>\n",
       "    </tr>\n",
       "    <tr>\n",
       "      <th>4</th>\n",
       "      <td>70.0</td>\n",
       "      <td>1.0</td>\n",
       "      <td>1.0</td>\n",
       "      <td>f6b391d5fde5df2e5e0ca42706532710dade601a</td>\n",
       "      <td>TBS/SCT</td>\n",
       "      <td>2008-12-17</td>\n",
       "      <td>2010-04-14</td>\n",
       "      <td>0.0</td>\n",
       "      <td>1.0</td>\n",
       "      <td>NaN</td>\n",
       "    </tr>\n",
       "  </tbody>\n",
       "</table>\n",
       "</div>"
      ],
      "text/plain": [
       "    User  Avatar  Profile                                      Name  \\\n",
       "0   22.0     1.0      1.0  e072bb2d1c11173d280b37468a53d4b27dc51b27   \n",
       "1  363.0     0.0      1.0  fac8e8e0795b78333ea4b1fb281f9f423bb04ee3   \n",
       "2  224.0     1.0      1.0  c11ac3706c267db26c79fb01e6b708b40e1e263c   \n",
       "3  460.0     1.0      1.0  4a490a5e1a430d2c110281a96330534ed10dac3e   \n",
       "4   70.0     1.0      1.0  f6b391d5fde5df2e5e0ca42706532710dade601a   \n",
       "\n",
       "     Department     Created  Last_login  Active  Colleagues  Skills  \n",
       "0  DFAITD/MAECD  2008-12-15  2016-03-22     1.0         7.0     NaN  \n",
       "1   HRSDC/RHDSC  2009-01-15  1969-12-31     0.0         1.0     NaN  \n",
       "2     CEAA/ACEE  2009-01-08  2010-02-08     0.0        21.0     NaN  \n",
       "3         OTHER  2009-01-20  2009-05-28     0.0         2.0     NaN  \n",
       "4       TBS/SCT  2008-12-17  2010-04-14     0.0         1.0     NaN  "
      ]
     },
     "execution_count": 80,
     "metadata": {},
     "output_type": "execute_result"
    }
   ],
   "source": [
    "mainframe.head()"
   ]
  },
  {
   "cell_type": "code",
   "execution_count": 81,
   "metadata": {
    "collapsed": false
   },
   "outputs": [],
   "source": [
    "# Pull groups by GUID\n",
    "\n",
    "groups = []\n",
    "\n",
    "for r in session.query(Relationships).filter(\n",
    "    Relationships.relationship == 'member'):\n",
    "        groups.append((\n",
    "            r.guid_one, r.guid_two))"
   ]
  },
  {
   "cell_type": "code",
   "execution_count": 82,
   "metadata": {
    "collapsed": false
   },
   "outputs": [
    {
     "data": {
      "text/plain": [
       "[(106, 122), (19, 122), (70, 122), (195, 122), (151, 275)]"
      ]
     },
     "execution_count": 82,
     "metadata": {},
     "output_type": "execute_result"
    }
   ],
   "source": [
    "groups[:5]"
   ]
  },
  {
   "cell_type": "code",
   "execution_count": 83,
   "metadata": {
    "collapsed": false
   },
   "outputs": [],
   "source": [
    "groups_df = pd.DataFrame(groups, columns=['guid', 'group_id'])"
   ]
  },
  {
   "cell_type": "code",
   "execution_count": 84,
   "metadata": {
    "collapsed": false
   },
   "outputs": [],
   "source": [
    "groups_count = groups_df.groupby('guid').count()"
   ]
  },
  {
   "cell_type": "code",
   "execution_count": 85,
   "metadata": {
    "collapsed": true
   },
   "outputs": [],
   "source": [
    "groups_count.reset_index(drop=False, inplace=True)"
   ]
  },
  {
   "cell_type": "code",
   "execution_count": 86,
   "metadata": {
    "collapsed": false
   },
   "outputs": [],
   "source": [
    "groups_count.columns = ['User', 'Groups']"
   ]
  },
  {
   "cell_type": "code",
   "execution_count": 87,
   "metadata": {
    "collapsed": true
   },
   "outputs": [],
   "source": [
    "mainframe = pd.merge(mainframe, groups_count, how='outer', on='User')"
   ]
  },
  {
   "cell_type": "code",
   "execution_count": null,
   "metadata": {
    "collapsed": true
   },
   "outputs": [],
   "source": []
  },
  {
   "cell_type": "code",
   "execution_count": 88,
   "metadata": {
    "collapsed": false,
    "scrolled": true
   },
   "outputs": [],
   "source": [
    "# Pull User comments\n",
    "# Could also pull comments for analysis with MetaStrings as ms and ms.text\n",
    "\n",
    "comments = []\n",
    "\n",
    "for a, e, u in session.query(Annotations, Entities, Users).filter(\n",
    "    Entities.guid == Annotations.entity_guid,\n",
    "    Entities.owner_guid == Users.guid):\n",
    "        comments.append((u.guid, e.guid))"
   ]
  },
  {
   "cell_type": "code",
   "execution_count": 89,
   "metadata": {
    "collapsed": false
   },
   "outputs": [],
   "source": [
    "comments_df = pd.DataFrame(comments, columns=['User', 'entity_guid'])"
   ]
  },
  {
   "cell_type": "code",
   "execution_count": 90,
   "metadata": {
    "collapsed": true
   },
   "outputs": [],
   "source": [
    "comment_group = comments_df.groupby('User').count()"
   ]
  },
  {
   "cell_type": "code",
   "execution_count": 91,
   "metadata": {
    "collapsed": false
   },
   "outputs": [],
   "source": [
    "comment_group.reset_index(drop=False, inplace=True)"
   ]
  },
  {
   "cell_type": "code",
   "execution_count": 92,
   "metadata": {
    "collapsed": false
   },
   "outputs": [
    {
     "data": {
      "text/html": [
       "<div>\n",
       "<table border=\"1\" class=\"dataframe\">\n",
       "  <thead>\n",
       "    <tr style=\"text-align: right;\">\n",
       "      <th></th>\n",
       "      <th>User</th>\n",
       "      <th>entity_guid</th>\n",
       "    </tr>\n",
       "  </thead>\n",
       "  <tbody>\n",
       "    <tr>\n",
       "      <th>0</th>\n",
       "      <td>6</td>\n",
       "      <td>200</td>\n",
       "    </tr>\n",
       "    <tr>\n",
       "      <th>1</th>\n",
       "      <td>7</td>\n",
       "      <td>3</td>\n",
       "    </tr>\n",
       "    <tr>\n",
       "      <th>2</th>\n",
       "      <td>19</td>\n",
       "      <td>13</td>\n",
       "    </tr>\n",
       "    <tr>\n",
       "      <th>3</th>\n",
       "      <td>22</td>\n",
       "      <td>1</td>\n",
       "    </tr>\n",
       "    <tr>\n",
       "      <th>4</th>\n",
       "      <td>23</td>\n",
       "      <td>77</td>\n",
       "    </tr>\n",
       "  </tbody>\n",
       "</table>\n",
       "</div>"
      ],
      "text/plain": [
       "   User  entity_guid\n",
       "0     6          200\n",
       "1     7            3\n",
       "2    19           13\n",
       "3    22            1\n",
       "4    23           77"
      ]
     },
     "execution_count": 92,
     "metadata": {},
     "output_type": "execute_result"
    }
   ],
   "source": [
    "comment_group.head()"
   ]
  },
  {
   "cell_type": "code",
   "execution_count": 93,
   "metadata": {
    "collapsed": true
   },
   "outputs": [],
   "source": [
    "comment_group.columns = ['User', 'Comments']"
   ]
  },
  {
   "cell_type": "code",
   "execution_count": 94,
   "metadata": {
    "collapsed": true
   },
   "outputs": [],
   "source": [
    "mainframe = pd.merge(mainframe, comment_group, how='outer', on='User')"
   ]
  },
  {
   "cell_type": "code",
   "execution_count": 95,
   "metadata": {
    "collapsed": false
   },
   "outputs": [],
   "source": [
    "# Get rid of NaN values\n",
    "\n",
    "mainframe.fillna(value=0, inplace=True)"
   ]
  },
  {
   "cell_type": "code",
   "execution_count": 96,
   "metadata": {
    "collapsed": true
   },
   "outputs": [],
   "source": [
    "def threshold_check(number, threshold_value=5):\n",
    "    \n",
    "    if number >= threshold_value:\n",
    "        return 1\n",
    "    else:\n",
    "        return 0"
   ]
  },
  {
   "cell_type": "code",
   "execution_count": 97,
   "metadata": {
    "collapsed": false
   },
   "outputs": [],
   "source": [
    "mainframe['5+ Colleagues'] = mainframe['Colleagues'].apply(threshold_check)\n",
    "mainframe['5+ Groups'] = mainframe['Groups'].apply(threshold_check)\n",
    "mainframe['5+ Comments'] = mainframe['Comments'].apply(threshold_check)"
   ]
  },
  {
   "cell_type": "code",
   "execution_count": 98,
   "metadata": {
    "collapsed": false
   },
   "outputs": [],
   "source": [
    "mainframe['+Skills'] = mainframe.apply(lambda x: threshold_check(x['Skills'], threshold_value=1), axis=1)"
   ]
  },
  {
   "cell_type": "code",
   "execution_count": 99,
   "metadata": {
    "collapsed": false
   },
   "outputs": [
    {
     "data": {
      "text/html": [
       "<div>\n",
       "<table border=\"1\" class=\"dataframe\">\n",
       "  <thead>\n",
       "    <tr style=\"text-align: right;\">\n",
       "      <th></th>\n",
       "      <th>User</th>\n",
       "      <th>Avatar</th>\n",
       "      <th>Profile</th>\n",
       "      <th>Name</th>\n",
       "      <th>Department</th>\n",
       "      <th>Created</th>\n",
       "      <th>Last_login</th>\n",
       "      <th>Active</th>\n",
       "      <th>Colleagues</th>\n",
       "      <th>Skills</th>\n",
       "      <th>Groups</th>\n",
       "      <th>Comments</th>\n",
       "      <th>5+ Colleagues</th>\n",
       "      <th>5+ Groups</th>\n",
       "      <th>5+ Comments</th>\n",
       "      <th>+Skills</th>\n",
       "    </tr>\n",
       "  </thead>\n",
       "  <tbody>\n",
       "    <tr>\n",
       "      <th>234</th>\n",
       "      <td>16416.0</td>\n",
       "      <td>1.0</td>\n",
       "      <td>1.0</td>\n",
       "      <td>3884daf8898800cb9d5cc8c6c0eb41cb60baf3f5</td>\n",
       "      <td>HC/SC</td>\n",
       "      <td>2009-07-07</td>\n",
       "      <td>2016-01-08</td>\n",
       "      <td>1.0</td>\n",
       "      <td>6.0</td>\n",
       "      <td>9.0</td>\n",
       "      <td>0.0</td>\n",
       "      <td>0.0</td>\n",
       "      <td>1</td>\n",
       "      <td>0</td>\n",
       "      <td>0</td>\n",
       "      <td>1</td>\n",
       "    </tr>\n",
       "    <tr>\n",
       "      <th>442</th>\n",
       "      <td>47073.0</td>\n",
       "      <td>1.0</td>\n",
       "      <td>1.0</td>\n",
       "      <td>49f3a276b08d49767c75b5b16634249b85f10ce3</td>\n",
       "      <td>HRSDC/RHDSC</td>\n",
       "      <td>2010-01-05</td>\n",
       "      <td>2016-03-30</td>\n",
       "      <td>1.0</td>\n",
       "      <td>22.0</td>\n",
       "      <td>5.0</td>\n",
       "      <td>14.0</td>\n",
       "      <td>3.0</td>\n",
       "      <td>1</td>\n",
       "      <td>1</td>\n",
       "      <td>0</td>\n",
       "      <td>1</td>\n",
       "    </tr>\n",
       "    <tr>\n",
       "      <th>466</th>\n",
       "      <td>40944.0</td>\n",
       "      <td>1.0</td>\n",
       "      <td>1.0</td>\n",
       "      <td>1254b29a93e37d901870545ca663fb796c50f1ae</td>\n",
       "      <td>NRCAN/RNCAN</td>\n",
       "      <td>2009-12-02</td>\n",
       "      <td>2016-03-22</td>\n",
       "      <td>1.0</td>\n",
       "      <td>15.0</td>\n",
       "      <td>9.0</td>\n",
       "      <td>6.0</td>\n",
       "      <td>30.0</td>\n",
       "      <td>1</td>\n",
       "      <td>1</td>\n",
       "      <td>1</td>\n",
       "      <td>1</td>\n",
       "    </tr>\n",
       "    <tr>\n",
       "      <th>911</th>\n",
       "      <td>80809.0</td>\n",
       "      <td>1.0</td>\n",
       "      <td>1.0</td>\n",
       "      <td>fb37fa2ce44c617ebf6b5897a14fc99390932f51</td>\n",
       "      <td>PHAC/ASPC</td>\n",
       "      <td>2010-06-21</td>\n",
       "      <td>2015-06-09</td>\n",
       "      <td>0.0</td>\n",
       "      <td>8.0</td>\n",
       "      <td>4.0</td>\n",
       "      <td>7.0</td>\n",
       "      <td>0.0</td>\n",
       "      <td>1</td>\n",
       "      <td>1</td>\n",
       "      <td>0</td>\n",
       "      <td>1</td>\n",
       "    </tr>\n",
       "    <tr>\n",
       "      <th>1141</th>\n",
       "      <td>98001.0</td>\n",
       "      <td>1.0</td>\n",
       "      <td>1.0</td>\n",
       "      <td>cb0ee74f94ae8a8268303238c8b35d6f7910102b</td>\n",
       "      <td>DND/DDN</td>\n",
       "      <td>2010-10-22</td>\n",
       "      <td>2016-02-01</td>\n",
       "      <td>1.0</td>\n",
       "      <td>6.0</td>\n",
       "      <td>6.0</td>\n",
       "      <td>3.0</td>\n",
       "      <td>15.0</td>\n",
       "      <td>1</td>\n",
       "      <td>0</td>\n",
       "      <td>1</td>\n",
       "      <td>1</td>\n",
       "    </tr>\n",
       "  </tbody>\n",
       "</table>\n",
       "</div>"
      ],
      "text/plain": [
       "         User  Avatar  Profile                                      Name  \\\n",
       "234   16416.0     1.0      1.0  3884daf8898800cb9d5cc8c6c0eb41cb60baf3f5   \n",
       "442   47073.0     1.0      1.0  49f3a276b08d49767c75b5b16634249b85f10ce3   \n",
       "466   40944.0     1.0      1.0  1254b29a93e37d901870545ca663fb796c50f1ae   \n",
       "911   80809.0     1.0      1.0  fb37fa2ce44c617ebf6b5897a14fc99390932f51   \n",
       "1141  98001.0     1.0      1.0  cb0ee74f94ae8a8268303238c8b35d6f7910102b   \n",
       "\n",
       "       Department     Created  Last_login  Active  Colleagues  Skills  Groups  \\\n",
       "234         HC/SC  2009-07-07  2016-01-08     1.0         6.0     9.0     0.0   \n",
       "442   HRSDC/RHDSC  2010-01-05  2016-03-30     1.0        22.0     5.0    14.0   \n",
       "466   NRCAN/RNCAN  2009-12-02  2016-03-22     1.0        15.0     9.0     6.0   \n",
       "911     PHAC/ASPC  2010-06-21  2015-06-09     0.0         8.0     4.0     7.0   \n",
       "1141      DND/DDN  2010-10-22  2016-02-01     1.0         6.0     6.0     3.0   \n",
       "\n",
       "      Comments  5+ Colleagues  5+ Groups  5+ Comments  +Skills  \n",
       "234        0.0              1          0            0        1  \n",
       "442        3.0              1          1            0        1  \n",
       "466       30.0              1          1            1        1  \n",
       "911        0.0              1          1            0        1  \n",
       "1141      15.0              1          0            1        1  "
      ]
     },
     "execution_count": 99,
     "metadata": {},
     "output_type": "execute_result"
    }
   ],
   "source": [
    "mainframe.query('+Skills > 0').head()"
   ]
  },
  {
   "cell_type": "code",
   "execution_count": 100,
   "metadata": {
    "collapsed": false
   },
   "outputs": [],
   "source": [
    "mainframe = mainframe[['User', 'Name', 'Department', 'Created', 'Last_login', \n",
    "                       'Avatar', 'Profile',\n",
    "                       'Colleagues', 'Skills', 'Groups', 'Comments', \n",
    "                       'Active', '5+ Colleagues',\n",
    "                       '5+ Groups', '5+ Comments', '+Skills']]"
   ]
  },
  {
   "cell_type": "code",
   "execution_count": null,
   "metadata": {
    "collapsed": false
   },
   "outputs": [],
   "source": []
  },
  {
   "cell_type": "code",
   "execution_count": null,
   "metadata": {
    "collapsed": true
   },
   "outputs": [],
   "source": []
  },
  {
   "cell_type": "code",
   "execution_count": 101,
   "metadata": {
    "collapsed": false
   },
   "outputs": [
    {
     "data": {
      "text/html": [
       "<div>\n",
       "<table border=\"1\" class=\"dataframe\">\n",
       "  <thead>\n",
       "    <tr style=\"text-align: right;\">\n",
       "      <th></th>\n",
       "      <th>User</th>\n",
       "      <th>Name</th>\n",
       "      <th>Department</th>\n",
       "      <th>Created</th>\n",
       "      <th>Last_login</th>\n",
       "      <th>Avatar</th>\n",
       "      <th>Profile</th>\n",
       "      <th>Colleagues</th>\n",
       "      <th>Skills</th>\n",
       "      <th>Groups</th>\n",
       "      <th>Comments</th>\n",
       "      <th>Active</th>\n",
       "      <th>5+ Colleagues</th>\n",
       "      <th>5+ Groups</th>\n",
       "      <th>5+ Comments</th>\n",
       "      <th>+Skills</th>\n",
       "    </tr>\n",
       "  </thead>\n",
       "  <tbody>\n",
       "    <tr>\n",
       "      <th>0</th>\n",
       "      <td>22.0</td>\n",
       "      <td>e072bb2d1c11173d280b37468a53d4b27dc51b27</td>\n",
       "      <td>DFAITD/MAECD</td>\n",
       "      <td>2008-12-15</td>\n",
       "      <td>2016-03-22</td>\n",
       "      <td>1.0</td>\n",
       "      <td>1.0</td>\n",
       "      <td>7.0</td>\n",
       "      <td>0.0</td>\n",
       "      <td>7.0</td>\n",
       "      <td>1.0</td>\n",
       "      <td>1.0</td>\n",
       "      <td>1</td>\n",
       "      <td>1</td>\n",
       "      <td>0</td>\n",
       "      <td>0</td>\n",
       "    </tr>\n",
       "    <tr>\n",
       "      <th>1</th>\n",
       "      <td>363.0</td>\n",
       "      <td>fac8e8e0795b78333ea4b1fb281f9f423bb04ee3</td>\n",
       "      <td>HRSDC/RHDSC</td>\n",
       "      <td>2009-01-15</td>\n",
       "      <td>1969-12-31</td>\n",
       "      <td>0.0</td>\n",
       "      <td>1.0</td>\n",
       "      <td>1.0</td>\n",
       "      <td>0.0</td>\n",
       "      <td>0.0</td>\n",
       "      <td>0.0</td>\n",
       "      <td>0.0</td>\n",
       "      <td>0</td>\n",
       "      <td>0</td>\n",
       "      <td>0</td>\n",
       "      <td>0</td>\n",
       "    </tr>\n",
       "    <tr>\n",
       "      <th>2</th>\n",
       "      <td>224.0</td>\n",
       "      <td>c11ac3706c267db26c79fb01e6b708b40e1e263c</td>\n",
       "      <td>CEAA/ACEE</td>\n",
       "      <td>2009-01-08</td>\n",
       "      <td>2010-02-08</td>\n",
       "      <td>1.0</td>\n",
       "      <td>1.0</td>\n",
       "      <td>21.0</td>\n",
       "      <td>0.0</td>\n",
       "      <td>0.0</td>\n",
       "      <td>0.0</td>\n",
       "      <td>0.0</td>\n",
       "      <td>1</td>\n",
       "      <td>0</td>\n",
       "      <td>0</td>\n",
       "      <td>0</td>\n",
       "    </tr>\n",
       "    <tr>\n",
       "      <th>3</th>\n",
       "      <td>460.0</td>\n",
       "      <td>4a490a5e1a430d2c110281a96330534ed10dac3e</td>\n",
       "      <td>OTHER</td>\n",
       "      <td>2009-01-20</td>\n",
       "      <td>2009-05-28</td>\n",
       "      <td>1.0</td>\n",
       "      <td>1.0</td>\n",
       "      <td>2.0</td>\n",
       "      <td>0.0</td>\n",
       "      <td>1.0</td>\n",
       "      <td>4.0</td>\n",
       "      <td>0.0</td>\n",
       "      <td>0</td>\n",
       "      <td>0</td>\n",
       "      <td>0</td>\n",
       "      <td>0</td>\n",
       "    </tr>\n",
       "    <tr>\n",
       "      <th>4</th>\n",
       "      <td>70.0</td>\n",
       "      <td>f6b391d5fde5df2e5e0ca42706532710dade601a</td>\n",
       "      <td>TBS/SCT</td>\n",
       "      <td>2008-12-17</td>\n",
       "      <td>2010-04-14</td>\n",
       "      <td>1.0</td>\n",
       "      <td>1.0</td>\n",
       "      <td>1.0</td>\n",
       "      <td>0.0</td>\n",
       "      <td>1.0</td>\n",
       "      <td>0.0</td>\n",
       "      <td>0.0</td>\n",
       "      <td>0</td>\n",
       "      <td>0</td>\n",
       "      <td>0</td>\n",
       "      <td>0</td>\n",
       "    </tr>\n",
       "  </tbody>\n",
       "</table>\n",
       "</div>"
      ],
      "text/plain": [
       "    User                                      Name    Department     Created  \\\n",
       "0   22.0  e072bb2d1c11173d280b37468a53d4b27dc51b27  DFAITD/MAECD  2008-12-15   \n",
       "1  363.0  fac8e8e0795b78333ea4b1fb281f9f423bb04ee3   HRSDC/RHDSC  2009-01-15   \n",
       "2  224.0  c11ac3706c267db26c79fb01e6b708b40e1e263c     CEAA/ACEE  2009-01-08   \n",
       "3  460.0  4a490a5e1a430d2c110281a96330534ed10dac3e         OTHER  2009-01-20   \n",
       "4   70.0  f6b391d5fde5df2e5e0ca42706532710dade601a       TBS/SCT  2008-12-17   \n",
       "\n",
       "   Last_login  Avatar  Profile  Colleagues  Skills  Groups  Comments  Active  \\\n",
       "0  2016-03-22     1.0      1.0         7.0     0.0     7.0       1.0     1.0   \n",
       "1  1969-12-31     0.0      1.0         1.0     0.0     0.0       0.0     0.0   \n",
       "2  2010-02-08     1.0      1.0        21.0     0.0     0.0       0.0     0.0   \n",
       "3  2009-05-28     1.0      1.0         2.0     0.0     1.0       4.0     0.0   \n",
       "4  2010-04-14     1.0      1.0         1.0     0.0     1.0       0.0     0.0   \n",
       "\n",
       "   5+ Colleagues  5+ Groups  5+ Comments  +Skills  \n",
       "0              1          1            0        0  \n",
       "1              0          0            0        0  \n",
       "2              1          0            0        0  \n",
       "3              0          0            0        0  \n",
       "4              0          0            0        0  "
      ]
     },
     "execution_count": 101,
     "metadata": {},
     "output_type": "execute_result"
    }
   ],
   "source": [
    "mainframe.head()"
   ]
  },
  {
   "cell_type": "code",
   "execution_count": 102,
   "metadata": {
    "collapsed": false
   },
   "outputs": [],
   "source": [
    "department_stats = mainframe[['Department', 'Active', 'Avatar', 'Profile',\n",
    "                              '5+ Colleagues','5+ Groups', '5+ Comments', \n",
    "                              '+Skills']]"
   ]
  },
  {
   "cell_type": "code",
   "execution_count": 103,
   "metadata": {
    "collapsed": true
   },
   "outputs": [],
   "source": [
    "department_stats = department_stats.groupby('Department').sum()"
   ]
  },
  {
   "cell_type": "code",
   "execution_count": 104,
   "metadata": {
    "collapsed": false
   },
   "outputs": [
    {
     "data": {
      "text/html": [
       "<div>\n",
       "<table border=\"1\" class=\"dataframe\">\n",
       "  <thead>\n",
       "    <tr style=\"text-align: right;\">\n",
       "      <th></th>\n",
       "      <th>Active</th>\n",
       "      <th>Avatar</th>\n",
       "      <th>Profile</th>\n",
       "      <th>5+ Colleagues</th>\n",
       "      <th>5+ Groups</th>\n",
       "      <th>5+ Comments</th>\n",
       "      <th>+Skills</th>\n",
       "    </tr>\n",
       "    <tr>\n",
       "      <th>Department</th>\n",
       "      <th></th>\n",
       "      <th></th>\n",
       "      <th></th>\n",
       "      <th></th>\n",
       "      <th></th>\n",
       "      <th></th>\n",
       "      <th></th>\n",
       "    </tr>\n",
       "  </thead>\n",
       "  <tbody>\n",
       "    <tr>\n",
       "      <th>0</th>\n",
       "      <td>0.0</td>\n",
       "      <td>0.0</td>\n",
       "      <td>0.0</td>\n",
       "      <td>0</td>\n",
       "      <td>0</td>\n",
       "      <td>0</td>\n",
       "      <td>0</td>\n",
       "    </tr>\n",
       "    <tr>\n",
       "      <th>AAFC/AAC</th>\n",
       "      <td>348.0</td>\n",
       "      <td>167.0</td>\n",
       "      <td>128.0</td>\n",
       "      <td>86</td>\n",
       "      <td>81</td>\n",
       "      <td>23</td>\n",
       "      <td>8</td>\n",
       "    </tr>\n",
       "    <tr>\n",
       "      <th>AANDC/AANDC</th>\n",
       "      <td>907.0</td>\n",
       "      <td>662.0</td>\n",
       "      <td>344.0</td>\n",
       "      <td>591</td>\n",
       "      <td>419</td>\n",
       "      <td>142</td>\n",
       "      <td>25</td>\n",
       "    </tr>\n",
       "    <tr>\n",
       "      <th>ACOA/APECA</th>\n",
       "      <td>40.0</td>\n",
       "      <td>73.0</td>\n",
       "      <td>43.0</td>\n",
       "      <td>80</td>\n",
       "      <td>37</td>\n",
       "      <td>13</td>\n",
       "      <td>0</td>\n",
       "    </tr>\n",
       "    <tr>\n",
       "      <th>AECL/EACL</th>\n",
       "      <td>0.0</td>\n",
       "      <td>0.0</td>\n",
       "      <td>0.0</td>\n",
       "      <td>0</td>\n",
       "      <td>0</td>\n",
       "      <td>0</td>\n",
       "      <td>0</td>\n",
       "    </tr>\n",
       "  </tbody>\n",
       "</table>\n",
       "</div>"
      ],
      "text/plain": [
       "             Active  Avatar  Profile  5+ Colleagues  5+ Groups  5+ Comments  \\\n",
       "Department                                                                    \n",
       "0               0.0     0.0      0.0              0          0            0   \n",
       "AAFC/AAC      348.0   167.0    128.0             86         81           23   \n",
       "AANDC/AANDC   907.0   662.0    344.0            591        419          142   \n",
       "ACOA/APECA     40.0    73.0     43.0             80         37           13   \n",
       "AECL/EACL       0.0     0.0      0.0              0          0            0   \n",
       "\n",
       "             +Skills  \n",
       "Department            \n",
       "0                  0  \n",
       "AAFC/AAC           8  \n",
       "AANDC/AANDC       25  \n",
       "ACOA/APECA         0  \n",
       "AECL/EACL          0  "
      ]
     },
     "execution_count": 104,
     "metadata": {},
     "output_type": "execute_result"
    }
   ],
   "source": [
    "department_stats.head()"
   ]
  },
  {
   "cell_type": "code",
   "execution_count": 105,
   "metadata": {
    "collapsed": false
   },
   "outputs": [],
   "source": [
    "dept_members = user_df.groupby('Department').count()"
   ]
  },
  {
   "cell_type": "code",
   "execution_count": 106,
   "metadata": {
    "collapsed": false
   },
   "outputs": [],
   "source": [
    "department_stats['Users'] = dept_members['User']"
   ]
  },
  {
   "cell_type": "code",
   "execution_count": 107,
   "metadata": {
    "collapsed": false
   },
   "outputs": [],
   "source": [
    "department_stats = department_stats[['Users', 'Active', 'Avatar', 'Profile',\n",
    "                              '5+ Colleagues','5+ Groups', '5+ Comments', \n",
    "                              '+Skills']]"
   ]
  },
  {
   "cell_type": "code",
   "execution_count": 108,
   "metadata": {
    "collapsed": false
   },
   "outputs": [],
   "source": [
    "# Remove null values from df and remove departments with under 25 members\n",
    "\n",
    "department_stats = department_stats.loc[department_stats.Users > 25]"
   ]
  },
  {
   "cell_type": "code",
   "execution_count": 109,
   "metadata": {
    "collapsed": true
   },
   "outputs": [],
   "source": [
    "# Reset Index for DF\n",
    "\n",
    "department_stats.reset_index(drop=False, inplace=True)"
   ]
  },
  {
   "cell_type": "code",
   "execution_count": 110,
   "metadata": {
    "collapsed": false
   },
   "outputs": [
    {
     "data": {
      "text/html": [
       "<div>\n",
       "<table border=\"1\" class=\"dataframe\">\n",
       "  <thead>\n",
       "    <tr style=\"text-align: right;\">\n",
       "      <th></th>\n",
       "      <th>Department</th>\n",
       "      <th>Users</th>\n",
       "      <th>Active</th>\n",
       "      <th>Avatar</th>\n",
       "      <th>Profile</th>\n",
       "      <th>5+ Colleagues</th>\n",
       "      <th>5+ Groups</th>\n",
       "      <th>5+ Comments</th>\n",
       "      <th>+Skills</th>\n",
       "    </tr>\n",
       "  </thead>\n",
       "  <tbody>\n",
       "    <tr>\n",
       "      <th>0</th>\n",
       "      <td>AAFC/AAC</td>\n",
       "      <td>1077.0</td>\n",
       "      <td>348.0</td>\n",
       "      <td>167.0</td>\n",
       "      <td>128.0</td>\n",
       "      <td>86</td>\n",
       "      <td>81</td>\n",
       "      <td>23</td>\n",
       "      <td>8</td>\n",
       "    </tr>\n",
       "    <tr>\n",
       "      <th>1</th>\n",
       "      <td>AANDC/AANDC</td>\n",
       "      <td>3172.0</td>\n",
       "      <td>907.0</td>\n",
       "      <td>662.0</td>\n",
       "      <td>344.0</td>\n",
       "      <td>591</td>\n",
       "      <td>419</td>\n",
       "      <td>142</td>\n",
       "      <td>25</td>\n",
       "    </tr>\n",
       "    <tr>\n",
       "      <th>2</th>\n",
       "      <td>ACOA/APECA</td>\n",
       "      <td>410.0</td>\n",
       "      <td>40.0</td>\n",
       "      <td>73.0</td>\n",
       "      <td>43.0</td>\n",
       "      <td>80</td>\n",
       "      <td>37</td>\n",
       "      <td>13</td>\n",
       "      <td>0</td>\n",
       "    </tr>\n",
       "    <tr>\n",
       "      <th>3</th>\n",
       "      <td>CANADA</td>\n",
       "      <td>4984.0</td>\n",
       "      <td>3885.0</td>\n",
       "      <td>1084.0</td>\n",
       "      <td>576.0</td>\n",
       "      <td>775</td>\n",
       "      <td>949</td>\n",
       "      <td>313</td>\n",
       "      <td>167</td>\n",
       "    </tr>\n",
       "    <tr>\n",
       "      <th>4</th>\n",
       "      <td>CAS/SATJ</td>\n",
       "      <td>125.0</td>\n",
       "      <td>69.0</td>\n",
       "      <td>6.0</td>\n",
       "      <td>8.0</td>\n",
       "      <td>11</td>\n",
       "      <td>16</td>\n",
       "      <td>1</td>\n",
       "      <td>1</td>\n",
       "    </tr>\n",
       "  </tbody>\n",
       "</table>\n",
       "</div>"
      ],
      "text/plain": [
       "    Department   Users  Active  Avatar  Profile  5+ Colleagues  5+ Groups  \\\n",
       "0     AAFC/AAC  1077.0   348.0   167.0    128.0             86         81   \n",
       "1  AANDC/AANDC  3172.0   907.0   662.0    344.0            591        419   \n",
       "2   ACOA/APECA   410.0    40.0    73.0     43.0             80         37   \n",
       "3       CANADA  4984.0  3885.0  1084.0    576.0            775        949   \n",
       "4     CAS/SATJ   125.0    69.0     6.0      8.0             11         16   \n",
       "\n",
       "   5+ Comments  +Skills  \n",
       "0           23        8  \n",
       "1          142       25  \n",
       "2           13        0  \n",
       "3          313      167  \n",
       "4            1        1  "
      ]
     },
     "execution_count": 110,
     "metadata": {},
     "output_type": "execute_result"
    }
   ],
   "source": [
    "department_stats.head()"
   ]
  },
  {
   "cell_type": "code",
   "execution_count": 111,
   "metadata": {
    "collapsed": false
   },
   "outputs": [
    {
     "data": {
      "text/html": [
       "<div>\n",
       "<table border=\"1\" class=\"dataframe\">\n",
       "  <thead>\n",
       "    <tr style=\"text-align: right;\">\n",
       "      <th></th>\n",
       "      <th>Department</th>\n",
       "      <th>Users</th>\n",
       "      <th>Active</th>\n",
       "      <th>Avatar</th>\n",
       "      <th>Profile</th>\n",
       "      <th>5+ Colleagues</th>\n",
       "      <th>5+ Groups</th>\n",
       "      <th>5+ Comments</th>\n",
       "      <th>+Skills</th>\n",
       "    </tr>\n",
       "  </thead>\n",
       "  <tbody>\n",
       "    <tr>\n",
       "      <th>68</th>\n",
       "      <td>RCMP/GRC</td>\n",
       "      <td>1075.0</td>\n",
       "      <td>332.0</td>\n",
       "      <td>116.0</td>\n",
       "      <td>75.0</td>\n",
       "      <td>71</td>\n",
       "      <td>66</td>\n",
       "      <td>14</td>\n",
       "      <td>6</td>\n",
       "    </tr>\n",
       "  </tbody>\n",
       "</table>\n",
       "</div>"
      ],
      "text/plain": [
       "   Department   Users  Active  Avatar  Profile  5+ Colleagues  5+ Groups  \\\n",
       "68   RCMP/GRC  1075.0   332.0   116.0     75.0             71         66   \n",
       "\n",
       "    5+ Comments  +Skills  \n",
       "68           14        6  "
      ]
     },
     "execution_count": 111,
     "metadata": {},
     "output_type": "execute_result"
    }
   ],
   "source": [
    "department_stats.query('Department == \"RCMP/GRC\"').head()"
   ]
  },
  {
   "cell_type": "code",
   "execution_count": null,
   "metadata": {
    "collapsed": true
   },
   "outputs": [],
   "source": []
  },
  {
   "cell_type": "code",
   "execution_count": 112,
   "metadata": {
    "collapsed": true
   },
   "outputs": [],
   "source": [
    "cioc_depts.columns = ['Department', 'FTEs']"
   ]
  },
  {
   "cell_type": "code",
   "execution_count": 113,
   "metadata": {
    "collapsed": false
   },
   "outputs": [],
   "source": [
    "cioc_stats = pd.merge(department_stats, cioc_depts, how='right')"
   ]
  },
  {
   "cell_type": "code",
   "execution_count": 114,
   "metadata": {
    "collapsed": false
   },
   "outputs": [
    {
     "data": {
      "text/html": [
       "<div>\n",
       "<table border=\"1\" class=\"dataframe\">\n",
       "  <thead>\n",
       "    <tr style=\"text-align: right;\">\n",
       "      <th></th>\n",
       "      <th>Department</th>\n",
       "      <th>Users</th>\n",
       "      <th>Active</th>\n",
       "      <th>Avatar</th>\n",
       "      <th>Profile</th>\n",
       "      <th>5+ Colleagues</th>\n",
       "      <th>5+ Groups</th>\n",
       "      <th>5+ Comments</th>\n",
       "      <th>+Skills</th>\n",
       "      <th>FTEs</th>\n",
       "    </tr>\n",
       "  </thead>\n",
       "  <tbody>\n",
       "    <tr>\n",
       "      <th>0</th>\n",
       "      <td>AAFC/AAC</td>\n",
       "      <td>1077.0</td>\n",
       "      <td>348.0</td>\n",
       "      <td>167.0</td>\n",
       "      <td>128.0</td>\n",
       "      <td>86</td>\n",
       "      <td>81</td>\n",
       "      <td>23</td>\n",
       "      <td>8</td>\n",
       "      <td>4303</td>\n",
       "    </tr>\n",
       "    <tr>\n",
       "      <th>1</th>\n",
       "      <td>AANDC/AANDC</td>\n",
       "      <td>3172.0</td>\n",
       "      <td>907.0</td>\n",
       "      <td>662.0</td>\n",
       "      <td>344.0</td>\n",
       "      <td>591</td>\n",
       "      <td>419</td>\n",
       "      <td>142</td>\n",
       "      <td>25</td>\n",
       "      <td>4049</td>\n",
       "    </tr>\n",
       "    <tr>\n",
       "      <th>2</th>\n",
       "      <td>ACOA/APECA</td>\n",
       "      <td>410.0</td>\n",
       "      <td>40.0</td>\n",
       "      <td>73.0</td>\n",
       "      <td>43.0</td>\n",
       "      <td>80</td>\n",
       "      <td>37</td>\n",
       "      <td>13</td>\n",
       "      <td>0</td>\n",
       "      <td>591</td>\n",
       "    </tr>\n",
       "    <tr>\n",
       "      <th>3</th>\n",
       "      <td>CANADA</td>\n",
       "      <td>4984.0</td>\n",
       "      <td>3885.0</td>\n",
       "      <td>1084.0</td>\n",
       "      <td>576.0</td>\n",
       "      <td>775</td>\n",
       "      <td>949</td>\n",
       "      <td>313</td>\n",
       "      <td>167</td>\n",
       "      <td>6000</td>\n",
       "    </tr>\n",
       "    <tr>\n",
       "      <th>4</th>\n",
       "      <td>CBSA/ASFC</td>\n",
       "      <td>2433.0</td>\n",
       "      <td>620.0</td>\n",
       "      <td>286.0</td>\n",
       "      <td>198.0</td>\n",
       "      <td>163</td>\n",
       "      <td>128</td>\n",
       "      <td>56</td>\n",
       "      <td>28</td>\n",
       "      <td>13297</td>\n",
       "    </tr>\n",
       "  </tbody>\n",
       "</table>\n",
       "</div>"
      ],
      "text/plain": [
       "    Department   Users  Active  Avatar  Profile  5+ Colleagues  5+ Groups  \\\n",
       "0     AAFC/AAC  1077.0   348.0   167.0    128.0             86         81   \n",
       "1  AANDC/AANDC  3172.0   907.0   662.0    344.0            591        419   \n",
       "2   ACOA/APECA   410.0    40.0    73.0     43.0             80         37   \n",
       "3       CANADA  4984.0  3885.0  1084.0    576.0            775        949   \n",
       "4    CBSA/ASFC  2433.0   620.0   286.0    198.0            163        128   \n",
       "\n",
       "   5+ Comments  +Skills   FTEs  \n",
       "0           23        8   4303  \n",
       "1          142       25   4049  \n",
       "2           13        0    591  \n",
       "3          313      167   6000  \n",
       "4           56       28  13297  "
      ]
     },
     "execution_count": 114,
     "metadata": {},
     "output_type": "execute_result"
    }
   ],
   "source": [
    "cioc_stats.head()"
   ]
  },
  {
   "cell_type": "code",
   "execution_count": 115,
   "metadata": {
    "collapsed": false
   },
   "outputs": [],
   "source": [
    "ftes = cioc_stats[['Department', 'FTEs', 'Users']]\n",
    "users = cioc_stats[['Department', 'Users', 'Active', 'Avatar', 'Profile', \n",
    "                    '5+ Colleagues',\n",
    "                   '5+ Groups', '5+ Comments', '+Skills']]"
   ]
  },
  {
   "cell_type": "code",
   "execution_count": 117,
   "metadata": {
    "collapsed": false
   },
   "outputs": [
    {
     "data": {
      "text/plain": [
       "<matplotlib.axes._subplots.AxesSubplot at 0x200c268f28>"
      ]
     },
     "execution_count": 117,
     "metadata": {},
     "output_type": "execute_result"
    },
    {
     "data": {
      "image/png": "[encoded data removed]",
      "text/plain": [
       "<matplotlib.figure.Figure at 0x200d35af60>"
      ]
     },
     "metadata": {},
     "output_type": "display_data"
    }
   ],
   "source": [
    "%matplotlib inline\n",
    "ftes.plot()"
   ]
  },
  {
   "cell_type": "code",
   "execution_count": 118,
   "metadata": {
    "collapsed": false
   },
   "outputs": [
    {
     "data": {
      "text/plain": [
       "<matplotlib.axes._subplots.AxesSubplot at 0x200d746cc0>"
      ]
     },
     "execution_count": 118,
     "metadata": {},
     "output_type": "execute_result"
    },
    {
     "data": {
      "image/png": "[encoded data removed]",
      "text/plain": [
       "<matplotlib.figure.Figure at 0x200d7d76a0>"
      ]
     },
     "metadata": {},
     "output_type": "display_data"
    }
   ],
   "source": [
    "users.plot()"
   ]
  },
  {
   "cell_type": "code",
   "execution_count": null,
   "metadata": {
    "collapsed": true
   },
   "outputs": [],
   "source": []
  },
  {
   "cell_type": "code",
   "execution_count": null,
   "metadata": {
    "collapsed": false
   },
   "outputs": [],
   "source": [
    "# Save files for analysis and graphing\n",
    "\n",
    "mainframe.to_csv(os.path.join(output_path, 'gcconnex_individual_stats-{}.csv'.format(\n",
    "        dt.date.today())))\n",
    "\n",
    "department_stats.to_csv(os.path.join(output_path, 'gcconnex_department_stats-{}.csv'.format(\n",
    "        dt.date.today())))\n",
    "\n",
    "cioc_stats.to_csv(os.path.join(output_path, 'gcconnex_cioc_stats-{}.csv'.format(\n",
    "        dt.date.today())))\n",
    "\n",
    "ftes.to_csv(os.path.join(output_path, 'gcconnex_fte_stats-{}.csv'.format(\n",
    "        dt.date.today())))\n",
    "\n",
    "users.to_csv(os.path.join(output_path, 'gcconnex_user_stats-{}.csv'.format(\n",
    "        dt.date.today())))\n"
   ]
  },
  {
   "cell_type": "markdown",
   "metadata": {
    "collapsed": true
   },
   "source": [
    "## Graphing the data"
   ]
  },
  {
   "cell_type": "code",
   "execution_count": null,
   "metadata": {
    "collapsed": false
   },
   "outputs": [],
   "source": []
  },
  {
   "cell_type": "code",
   "execution_count": null,
   "metadata": {
    "collapsed": false
   },
   "outputs": [],
   "source": [
    "# Basic Seaborn Chart\n",
    "\n",
    "sns_plot = sns.barplot(palette='muted', units=\"Users\",\n",
    "    data=department_stats.loc[department_stats.Department == 'CANADA'])\n",
    "\n",
    "sns_plot.set_title('CANADA')\n",
    "\n",
    "fig = sns_plot.get_figure()\n",
    "\n",
    "fig.savefig('Canada.png')"
   ]
  },
  {
   "cell_type": "code",
   "execution_count": null,
   "metadata": {
    "collapsed": false
   },
   "outputs": [],
   "source": []
  },
  {
   "cell_type": "code",
   "execution_count": null,
   "metadata": {
    "collapsed": false
   },
   "outputs": [],
   "source": [
    "# Print all departmental graphs for User Info\n",
    "\n",
    "sns.set_context('poster')\n",
    "\n",
    "for dept in users.Department:\n",
    "    \n",
    "    sns_plot = sns.barplot(palette='muted',\n",
    "        data=users.loc[users.Department == dept])\n",
    "    \n",
    "    sns_plot.set_title(dept)\n",
    "\n",
    "    fig = sns_plot.get_figure()\n",
    "    \n",
    "    dept_title = dept.split('/')[0]\n",
    "\n",
    "    fig.savefig(os.path.join(output_path, 'department_graphs',\n",
    "                             '{}_users_2016.png'.format(dept_title)))\n",
    "    \n",
    "    plt.close()"
   ]
  },
  {
   "cell_type": "code",
   "execution_count": null,
   "metadata": {
    "collapsed": false
   },
   "outputs": [],
   "source": [
    "# Print all departmental graphs for FTE Info\n",
    "\n",
    "sns.set_context('poster')\n",
    "\n",
    "for dept in ftes.Department:\n",
    "    \n",
    "    sns_plot = sns.barplot(palette='muted',\n",
    "        data=ftes.loc[ftes.Department == dept])\n",
    "    \n",
    "    sns_plot.set_title(dept)\n",
    "\n",
    "    fig = sns_plot.get_figure()\n",
    "    \n",
    "    dept_title = dept.split('/')[0]\n",
    "\n",
    "    fig.savefig(os.path.join(output_path, 'department_graphs',\n",
    "                             '{}_ftes_2016.png'.format(dept_title)))\n",
    "    \n",
    "    plt.close()"
   ]
  },
  {
   "cell_type": "code",
   "execution_count": null,
   "metadata": {
    "collapsed": true
   },
   "outputs": [],
   "source": []
  },
  {
   "cell_type": "code",
   "execution_count": null,
   "metadata": {
    "collapsed": false
   },
   "outputs": [],
   "source": []
  },
  {
   "cell_type": "code",
   "execution_count": null,
   "metadata": {
    "collapsed": false
   },
   "outputs": [],
   "source": []
  },
  {
   "cell_type": "code",
   "execution_count": null,
   "metadata": {
    "collapsed": true
   },
   "outputs": [],
   "source": []
  },
  {
   "cell_type": "code",
   "execution_count": null,
   "metadata": {
    "collapsed": true
   },
   "outputs": [],
   "source": []
  },
  {
   "cell_type": "markdown",
   "metadata": {},
   "source": [
    "## Network Graphing"
   ]
  },
  {
   "cell_type": "code",
   "execution_count": 119,
   "metadata": {
    "collapsed": false
   },
   "outputs": [],
   "source": [
    "n_users = user_df.transpose()"
   ]
  },
  {
   "cell_type": "code",
   "execution_count": 120,
   "metadata": {
    "collapsed": false
   },
   "outputs": [],
   "source": [
    "nu = n_users.to_dict()"
   ]
  },
  {
   "cell_type": "code",
   "execution_count": 121,
   "metadata": {
    "collapsed": false
   },
   "outputs": [
    {
     "data": {
      "text/plain": [
       "{'Created': '2008-12-15',\n",
       " 'Department': 'PWGSC/TPSGC',\n",
       " 'Last_login': '2009-08-24',\n",
       " 'Name': '3e0e56955b8cbcb43249586734c5a4907583dc20',\n",
       " 'User': 4}"
      ]
     },
     "execution_count": 121,
     "metadata": {},
     "output_type": "execute_result"
    }
   ],
   "source": [
    "nu[0]"
   ]
  },
  {
   "cell_type": "code",
   "execution_count": 122,
   "metadata": {
    "collapsed": false
   },
   "outputs": [
    {
     "data": {
      "text/plain": [
       "(6, 7, '1969-12-31')"
      ]
     },
     "execution_count": 122,
     "metadata": {},
     "output_type": "execute_result"
    }
   ],
   "source": [
    "colleagues[0]"
   ]
  },
  {
   "cell_type": "code",
   "execution_count": 123,
   "metadata": {
    "collapsed": false
   },
   "outputs": [],
   "source": [
    "import networkx as nx"
   ]
  },
  {
   "cell_type": "code",
   "execution_count": 124,
   "metadata": {
    "collapsed": true
   },
   "outputs": [],
   "source": [
    "G = nx.DiGraph()"
   ]
  },
  {
   "cell_type": "code",
   "execution_count": 125,
   "metadata": {
    "collapsed": false
   },
   "outputs": [],
   "source": [
    "for user in nu:\n",
    "    data = nu[user]\n",
    "    G.add_node(data['User'], name=data['Name'],\n",
    "               department=data['Department'], \n",
    "               created=data['Created'])"
   ]
  },
  {
   "cell_type": "code",
   "execution_count": 126,
   "metadata": {
    "collapsed": false
   },
   "outputs": [],
   "source": [
    "for edge in colleagues:\n",
    "    user, friend, connected = edge\n",
    "    \n",
    "    G.add_edge(user, friend, date=connected)"
   ]
  },
  {
   "cell_type": "code",
   "execution_count": 127,
   "metadata": {
    "collapsed": true
   },
   "outputs": [],
   "source": [
    "nx.write_gexf(\n",
    "    G, os.path.join(\n",
    "        data_path, \"gcconnex_users_content_{}.gexf\".format(dt.date.today())))"
   ]
  },
  {
   "cell_type": "code",
   "execution_count": null,
   "metadata": {
    "collapsed": false
   },
   "outputs": [],
   "source": []
  },
  {
   "cell_type": "code",
   "execution_count": null,
   "metadata": {
    "collapsed": true
   },
   "outputs": [],
   "source": []
  }
 ],
 "metadata": {
  "kernelspec": {
   "display_name": "Python [Root]",
   "language": "python",
   "name": "Python [Root]"
  },
  "language_info": {
   "codemirror_mode": {
    "name": "ipython",
    "version": 3
   },
   "file_extension": ".py",
   "mimetype": "text/x-python",
   "name": "python",
   "nbconvert_exporter": "python",
   "pygments_lexer": "ipython3",
   "version": "3.5.1"
  }
 },
 "nbformat": 4,
 "nbformat_minor": 0
}
